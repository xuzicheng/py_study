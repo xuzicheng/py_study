{
 "cells": [
  {
   "cell_type": "markdown",
   "metadata": {},
   "source": [
    "每天都有大量的文件要打印，一个一个点开打印，这样机械重复的工作很无趣啊。Python, help! P哥一脸自信的微笑，表示毫无问题。"
   ]
  },
  {
   "cell_type": "markdown",
   "metadata": {},
   "source": [
    "首先，需要安装第三方库`pywin32`，这样才能用Python调用Windows API（应用程序编程接口）。若未安装，则运行\"cmd\"，输入\"pip install pywin32\"，等待安装完成即可。然后导入`win32api`，定义一个打印函数`Print`，以便后续重复调用。函数里面主要的部分就是`win32api.ShellExecute`。它用于启动应用程序，其第2个参数用于指定操作，这里的\"print\"表示启动打印应用程序。其余参数见如下程序部分的注释。其中有些可能暂时无法理解，没关系，因为我们用不着。现在要解决的是打印的问题，只要程序能如我们期望的工作，管他的。"
   ]
  },
  {
   "cell_type": "code",
   "execution_count": 20,
   "metadata": {},
   "outputs": [],
   "source": [
    "#定义打印函数，以便重复调用\n",
    "import win32api\n",
    "def Print(fileName): \n",
    "    win32api.ShellExecute (\n",
    "    0, #指定父窗口句柄，我搞不懂\n",
    "    \"print\", #指定操作，这里的\"print\"表示启动打印应用程序\n",
    "    fileName, #要打印的文件名\n",
    "    None, #打印机设置，若是\"None\"，则使用windows设置的默认打印机\n",
    "    \".\", #指定默认目录，照抄的，搞不懂\n",
    "    0 #若fileName参数是一个可执行程序，则此参数指定程序窗口的初始显示方式，否则此参数应设置为0\n",
    "    )"
   ]
  },
  {
   "cell_type": "markdown",
   "metadata": {},
   "source": [
    "打印函数定义好后，就可以指定文件夹，将其中待打印的文件逐个送入打印函数，进行批量打印了。请注意，这个打印函数包治百病，非常高能，只要是平时工作中能打印的文件都能打印，不管是word，txt，还是excel，PPT，PDF，通吃。你要做的就只是事先调整好文档里的打印设置，其他就只等着收打印稿了。"
   ]
  },
  {
   "cell_type": "code",
   "execution_count": 23,
   "metadata": {},
   "outputs": [
    {
     "data": {
      "text/plain": [
       "['文件\\\\test.docx', '文件\\\\test.txt']"
      ]
     },
     "execution_count": 23,
     "metadata": {},
     "output_type": "execute_result"
    }
   ],
   "source": [
    "#获取待打印文件的路径\n",
    "import os\n",
    "path='文件'  #文件所在文件夹\n",
    "files = [path+\"\\\\\"+i for i in os.listdir(path)] #获取文件夹下的文件名,并拼接完整路径\n",
    "files"
   ]
  },
  {
   "cell_type": "code",
   "execution_count": 24,
   "metadata": {},
   "outputs": [],
   "source": [
    "#批量打印\n",
    "for file in files:\n",
    "    Print(file)"
   ]
  },
  {
   "cell_type": "markdown",
   "metadata": {},
   "source": [
    "打印结果就不展示了。慢着，老板说要重视绿色环保，节约用纸，请大家双面打印。那“双面打印”怎么在程序设置啊？额......双面打印不在程序里设置，在打印机里设置。在你的默认打印机上点右键，选择“打印首选项”，然后在“双面打印”那里选“是，翻转”。每个打印机的设置界面可能有差异，但大致差不多就酱。"
   ]
  },
  {
   "cell_type": "markdown",
   "metadata": {},
   "source": [
    "![](images\\1.png)\n",
    "![](images\\2.png)"
   ]
  }
 ],
 "metadata": {
  "kernelspec": {
   "display_name": "Python 3",
   "language": "python",
   "name": "python3"
  },
  "language_info": {
   "codemirror_mode": {
    "name": "ipython",
    "version": 3
   },
   "file_extension": ".py",
   "mimetype": "text/x-python",
   "name": "python",
   "nbconvert_exporter": "python",
   "pygments_lexer": "ipython3",
   "version": "3.6.5"
  }
 },
 "nbformat": 4,
 "nbformat_minor": 2
}
