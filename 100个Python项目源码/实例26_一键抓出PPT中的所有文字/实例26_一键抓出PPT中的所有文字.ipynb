{
 "cells": [
  {
   "cell_type": "markdown",
   "metadata": {},
   "source": [
    "有时，我们需要将一个PPT文件中的所有文字批量导出，以便查看，或者复制什么的。一页一页PPT去复制粘贴，会很不方便。如果能一键将PPT中的文字导出，存为文本文件或者word文件，将极大提升效率。下面我们就来试试用Python搞定这个吧。"
   ]
  },
  {
   "cell_type": "code",
   "execution_count": 1,
   "metadata": {},
   "outputs": [],
   "source": [
    "#提取所有文本字符\n",
    "from pptx import Presentation\n",
    "data = []\n",
    "prs = Presentation('data\\制造业必修课.pptx')\n",
    "for slide in prs.slides: #遍历每页PPT\n",
    "    for shape in slide.shapes: #遍历PPT中的每个形状\n",
    "        if shape.has_t\n",
    "        for paragraph in shape.text_frame.paragraphs: \n",
    "            data.append(paragraph.text)"
   ]
  },
  {
   "cell_type": "code",
   "execution_count": 2,
   "metadata": {
    "scrolled": false
   },
   "outputs": [
    {
     "data": {
      "text/plain": [
       "['生产制造业必学的12门课程',\n",
       " '第一课  生产问题的分析和解决方法',\n",
       " '第二课  改善生产管理的利器5S与TPM教程',\n",
       " '第三课  6S管理实战方法',\n",
       " '第四课  全面质量管理TQM教程']"
      ]
     },
     "execution_count": 2,
     "metadata": {},
     "output_type": "execute_result"
    }
   ],
   "source": [
    "data[:5]"
   ]
  },
  {
   "cell_type": "code",
   "execution_count": 5,
   "metadata": {},
   "outputs": [],
   "source": [
    "#写入文本文件\n",
    "TxtFile = open('data\\制造业必修课.txt', 'w',encoding='utf-8')\n",
    "for i in data:\n",
    "    TxtFile.write(i+'\\n')\n",
    "TxtFile.close()"
   ]
  },
  {
   "cell_type": "code",
   "execution_count": 4,
   "metadata": {},
   "outputs": [],
   "source": [
    "#写入word文件\n",
    "import docx\n",
    "doc=docx.Document()#创建一个Document对象\n",
    "for i in data:\n",
    "    doc.add_paragraph(i) #增加一个段落，并写入内容\n",
    "doc.save('data\\制造业必修课.docx')#保存文档"
   ]
  },
  {
   "cell_type": "code",
   "execution_count": null,
   "metadata": {},
   "outputs": [],
   "source": []
  }
 ],
 "metadata": {
  "kernelspec": {
   "display_name": "Python 3",
   "language": "python",
   "name": "python3"
  },
  "language_info": {
   "codemirror_mode": {
    "name": "ipython",
    "version": 3
   },
   "file_extension": ".py",
   "mimetype": "text/x-python",
   "name": "python",
   "nbconvert_exporter": "python",
   "pygments_lexer": "ipython3",
   "version": "3.6.5"
  }
 },
 "nbformat": 4,
 "nbformat_minor": 2
}
