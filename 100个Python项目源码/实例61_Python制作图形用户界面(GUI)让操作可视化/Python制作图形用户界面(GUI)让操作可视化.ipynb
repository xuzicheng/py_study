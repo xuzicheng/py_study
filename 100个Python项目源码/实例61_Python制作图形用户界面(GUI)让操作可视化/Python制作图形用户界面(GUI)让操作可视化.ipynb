{
 "cells": [
  {
   "cell_type": "markdown",
   "metadata": {},
   "source": [
    "在Python编辑器中运行程序，处理工作中的事情，对于大多数小白来说始终有点不适应。那做个图形用户界面（GUI），向操作软件一样点选，执行，是不是就很OK了呢？我们拭目以待。\n",
    "<br/>\n",
    "<br/>就拿实例60（https://zhuanlan.zhihu.com/p/150472348） 来作为例子吧。主程序基本不用动，做好用户界面后，将程序中的相关操作连接到界面的那些按钮，文本框上，就可以像操作软件一样执行程序了。想想就有一丢丢激动。\n",
    "<br/>\n",
    "<br/>这里要用到`PyQt5`模块。运行`cmd`，输入`pip install PyQt5 -i https://pypi.doubanio.com/simple/`安装。这里用到了Python第三方库在豆瓣的镜像站点，下载速度远超原站点N个级别，每次安装新的库时都墙裂推荐！\n",
    "<br/>\n",
    "<br/>Qt5是个什么东东呢？感兴趣的可以度娘一下。简单来说，Qt是一个可视化开发平台，已经有接近30年的历史了。它能够为应用程序开发者提供建立“艺术级图形用户界面”所需的所有功能。5是第五版。`PyQt5`是Python跟Qt5连接的库。"
   ]
  },
  {
   "cell_type": "markdown",
   "metadata": {},
   "source": [
    "先导入相关库。`sys`模块提供对Python解释器使用或维护的一些变量的访问，以及与解释器交互的函数。`QtWidgets`指Qt控件模块，它提供了很多用于创建图形用户界面的工具，便于我们创建窗口。`QIcon`用于给界面设置logo。\n",
    "<br/>\n",
    "<br/>这里，直接继承使用`QMainWindow`类，它提供了一个创建应用程序界面的框架，有它自己布局。我们可以在上面添加工具条、文本框、按钮、菜单栏、状态栏等。\n",
    "<br/>\n",
    "<br/>然后定义方法`__init__()`设置用户界面，这是一个特殊的方法，当我们根据`MainGUI`类创建新实例时，Python都会自动运行它。开头和末尾两个下划线是一种约定，旨在避免Python默认方法与普通方法发生名称冲突。其中，形参`self`必不可少，还必须位于其他形参的前面。Python调用这个`__init__()`方法来创建`MainGUI`实例时，将自动传入实参`self` 。每个与类相关联的方法调用都自动传递实参`self`，它是一个指向实例本身的引用。然后用`super().__init__()`调用父类中`__init__`的函数，这里的父类就是`QtWidgets.QMainWindow`。\n",
    "<br/>\n",
    "<br/>使用`QtWidgets.QWidget() `创建一个界面，其中`QWidget`类是所有用户界面对象的基类，它可从窗口系统接收鼠标、键盘和其他事件，并显示。然后选取布局为网格布局（多行多列），它将位于其中的窗口部件放入一个网状的栅格之中。`QGridLayout`会将空间划分成行和列，并把每个窗口部件插入并管理到正确的单元格中。\n",
    "<br/>\n",
    "<br/>以上算是将画布铺好了，然后就要往上面放置部件了。这里定义了两个文本编辑框，三个按钮及一个列表控件，并设置了对应的变量名，以便后续跟主程序连接。定义好部件后，需要将这些部件放到画布的相应位置。此处，通过`addWidget()`逐一往布局中添加控件。它的参数如下。"
   ]
  },
  {
   "cell_type": "code",
   "execution_count": null,
   "metadata": {},
   "outputs": [],
   "source": [
    "addWidget(QWidget * widget, int fromRow, int fromColumn, int rowSpan, int columnSpan, Qt::Alignment alignment = 0)"
   ]
  },
  {
   "cell_type": "markdown",
   "metadata": {},
   "source": [
    "其中，`QWidget * widget`指控件名，`int fromRow`指行，`int fromColumn`指列，`int rowSpan`指占用行数，`int columnSpan`指占用列数，最后一个是对齐方式。\n",
    "<br/>\n",
    "<br/>部件位置设置好后，用`setCentralWidget`把`Qwidget`设置为`QMainWindow`的中心窗口。如果不设置，窗口显示是下面这样的，那些按钮什么的都看不见。\n",
    "![](images\\withoutsetCentral.png)"
   ]
  },
  {
   "cell_type": "markdown",
   "metadata": {},
   "source": [
    "以上界面设置好后，就定义一个`main`函数，创建实例了。基本都是固定写法，具体细节见注释部分。最后执行程序，如下窗口就会出现。\n",
    "![](images\\gui.png)"
   ]
  },
  {
   "cell_type": "code",
   "execution_count": 1,
   "metadata": {
    "scrolled": true
   },
   "outputs": [
    {
     "ename": "SystemExit",
     "evalue": "0",
     "output_type": "error",
     "traceback": [
      "An exception has occurred, use %tb to see the full traceback.\n",
      "\u001b[1;31mSystemExit\u001b[0m\u001b[1;31m:\u001b[0m 0\n"
     ]
    },
    {
     "name": "stderr",
     "output_type": "stream",
     "text": [
      "C:\\Users\\DYLAN\\AppData\\Local\\Continuum\\anaconda3\\lib\\site-packages\\IPython\\core\\interactiveshell.py:3275: UserWarning: To exit: use 'exit', 'quit', or Ctrl-D.\n",
      "  warn(\"To exit: use 'exit', 'quit', or Ctrl-D.\", stacklevel=1)\n"
     ]
    }
   ],
   "source": [
    "import sys\n",
    "from PyQt5 import QtWidgets\n",
    "from PyQt5.QtGui import QIcon\n",
    "\n",
    "class MainGUI(QtWidgets.QMainWindow):\n",
    "    '''\n",
    "    文件目录框使用QLineEdit()、按钮使用QPushButton()、\n",
    "    结果显示框使用QListWidget()，\n",
    "    整体的布局使用QGridLayout()\n",
    "    '''\n",
    "    #设置用户界面\n",
    "    def __init__(self):\n",
    "        super().__init__() #调用父类中__init__的函数\n",
    "        self.setWindowTitle(\"领料明细汇总\") #设置窗口标题\n",
    "        self.resize(800, 400) #设置窗口大小，单位为像素\n",
    "        self.main_widget = QtWidgets.QWidget() #创建界面       \n",
    "        self.main_widget_layout = QtWidgets.QGridLayout() #选取布局为网格布局（多行多列）\n",
    "        self.main_widget.setLayout(self.main_widget_layout) #设置布局\n",
    "        #设置部件\n",
    "        self.input = QtWidgets.QLineEdit()#文本编辑框1\n",
    "        self.input_btn = QtWidgets.QPushButton(\"选择输入文件夹\") #按钮1及名称\n",
    "        self.output = QtWidgets.QLineEdit() #文本编辑框2\n",
    "        self.output_btn = QtWidgets.QPushButton(\"选择输出文件夹\")#按钮2及名称\n",
    "        self.show_result = QtWidgets.QListWidget() #列表控件\n",
    "        self.run = QtWidgets.QPushButton(\"执行汇总\") #按钮3及名称\n",
    "        #部件的位置设置\n",
    "        self.main_widget_layout.addWidget(self.input, 0, 0, 1, 2) #文本编辑框1放在第1行1列，占用1行2列\n",
    "        self.main_widget_layout.addWidget(self.input_btn, 0, 2, 1, 1) #按钮1放在第1行第3列，占用1行1列\n",
    "        self.main_widget_layout.addWidget(self.output, 1, 0, 1, 2)\n",
    "        self.main_widget_layout.addWidget(self.output_btn, 1, 2, 1, 1)\n",
    "        self.main_widget_layout.addWidget(self.run, 2, 2, 1, 1)\n",
    "        self.main_widget_layout.addWidget(self.show_result, 3, 0, 3, 3)\n",
    "\n",
    "        self.setCentralWidget(self.main_widget) #设置QMainWindow的中心窗口\n",
    "        \n",
    "def main():\n",
    "    app = QtWidgets.QApplication(sys.argv) #[固定写法]实例化应用，sys.argv是一个从程序外部获取参数的桥梁\n",
    "    app.setWindowIcon(QIcon(\"PO.ico\"))#设置界面左上角图标\n",
    "    gui = MainGUI() #[固定写法]调用MainGUI类\n",
    "    gui.show() #[固定写法]显示窗口\n",
    "    sys.exit(app.exec_()) #[固定写法]调用exec_()方法运行程序。sys.exit()用于程序的正常退出\n",
    "\n",
    "#[固定写法]执行主函数main()\n",
    "if __name__ == '__main__':\n",
    "    main()"
   ]
  },
  {
   "cell_type": "markdown",
   "metadata": {},
   "source": [
    "是不是有点小激动啊？慢着，这些按钮啊，文本框啊，看起来像模像样，但就是一个摆设，一点功能都没有。要让它们有功能，还需要跟执行程序连接起来才行。我们把实例60（https://zhuanlan.zhihu.com/p/150472348） 中的程序做成函数，全部放进类`MainGUI`中。并新建了两个函数`Choice_dir_input`和`Choice_dir_output`，用于“选择输入文件夹”和“选择输出文件夹”操作。`QtWidgets.QFileDialog.getExistingDirectory`方法用于实现选择目录操作，其中第二个参数是弹出的对话框的标题，第三个参数是默认路径。比如，我们设置标题为“请选择文件夹路径”，默认路径为D盘，弹出的文件选择框就会显示如下。"
   ]
  },
  {
   "cell_type": "markdown",
   "metadata": {},
   "source": [
    "![](images\\pathsel.png)"
   ]
  },
  {
   "cell_type": "markdown",
   "metadata": {},
   "source": [
    "`self.input.setText(dir_path)`用于将选择的目录显示在文本编辑框中。如下所示。`self.input.setText`就是往这个控件中放入文本的意思。\n",
    "![](images\\showpath.png)"
   ]
  },
  {
   "cell_type": "markdown",
   "metadata": {},
   "source": [
    "在`Summary_data`函数中，“插入数据”部分，需要调用`Get_file_path`函数获取所有文件的路径。而传入`Get_file_path`函数的`path`参数则来自于界面中的文本编辑框`self.input`，使用`text()`即可获得。\n",
    "<br/>\n",
    "<br/>每写入一张Excel领料记录表，我们希望在界面显示状态。因此，使用`QtWidgets.QListWidgetItem`创建一个列表控件显示项，在使用`addItem()`将内容显示在列表控件`show_result`中。\n",
    "<br/>\n",
    "<br/>同样的方法，在汇总文件处理完后，将其状态也显示在列表控件中。到此，所有操作与界面的控件连接完成。"
   ]
  },
  {
   "cell_type": "code",
   "execution_count": 1,
   "metadata": {
    "scrolled": true
   },
   "outputs": [
    {
     "ename": "SystemExit",
     "evalue": "0",
     "output_type": "error",
     "traceback": [
      "An exception has occurred, use %tb to see the full traceback.\n",
      "\u001b[1;31mSystemExit\u001b[0m\u001b[1;31m:\u001b[0m 0\n"
     ]
    },
    {
     "name": "stderr",
     "output_type": "stream",
     "text": [
      "C:\\Users\\DYLAN\\AppData\\Local\\Continuum\\anaconda3\\lib\\site-packages\\IPython\\core\\interactiveshell.py:3275: UserWarning: To exit: use 'exit', 'quit', or Ctrl-D.\n",
      "  warn(\"To exit: use 'exit', 'quit', or Ctrl-D.\", stacklevel=1)\n"
     ]
    }
   ],
   "source": [
    "import sys\n",
    "import os\n",
    "from PyQt5 import QtWidgets\n",
    "from PyQt5.QtGui import QIcon\n",
    "import xlrd\n",
    "import datetime\n",
    "import time\n",
    "from openpyxl import Workbook\n",
    "from openpyxl.styles import Border, Side, PatternFill, Font, GradientFill, Alignment\n",
    "\n",
    "class MainGUI(QtWidgets.QMainWindow):\n",
    "    def __init__(self):\n",
    "        super().__init__()        \n",
    "        self.setWindowTitle(\"领料明细汇总\")\n",
    "        self.resize(800, 400)\n",
    "        self.main_widget = QtWidgets.QWidget()        \n",
    "        self.main_widget_layout = QtWidgets.QGridLayout()\n",
    "        self.main_widget.setLayout(self.main_widget_layout)\n",
    "\n",
    "        self.input = QtWidgets.QLineEdit()\n",
    "        self.input_btn = QtWidgets.QPushButton(\"选择输入文件夹\")\n",
    "        self.output = QtWidgets.QLineEdit()\n",
    "        self.output_btn = QtWidgets.QPushButton(\"选择输出文件夹\")\n",
    "        self.show_result = QtWidgets.QListWidget()\n",
    "        self.run = QtWidgets.QPushButton(\"执行汇总\")\n",
    "\n",
    "        self.main_widget_layout.addWidget(self.input,0,0,1,2)\n",
    "        self.main_widget_layout.addWidget(self.input_btn, 0, 2, 1, 1)\n",
    "        self.main_widget_layout.addWidget(self.output,1,0,1,2)\n",
    "        self.main_widget_layout.addWidget(self.output_btn, 1, 2, 1, 1)\n",
    "        self.main_widget_layout.addWidget(self.run, 2, 2, 1, 1)\n",
    "        self.main_widget_layout.addWidget(self.show_result, 3, 0, 3, 3)\n",
    "\n",
    "        self.setCentralWidget(self.main_widget)\n",
    "        \n",
    "        self.input_btn.clicked.connect(self.Choice_dir_input) #将\"选择输入文件夹\"按钮绑定Choice_dir_input函数\n",
    "        self.output_btn.clicked.connect(self.Choice_dir_output) #将\"选择输出文件夹\"按钮绑定Choice_dir_output函数\n",
    "        self.run.clicked.connect(self.Summary_data) #“执行汇总”按钮绑定Summary_data函数\n",
    "\n",
    "    def Choice_dir_input(self):\n",
    "        #选择目录操作\n",
    "        dir_path = QtWidgets.QFileDialog.getExistingDirectory(self, \"请选择文件夹路径\", \"D:\\\\\")\n",
    "        #将选择的目录显示在文本编辑框中\n",
    "        self.input.setText(dir_path)\n",
    "        \n",
    "    def Choice_dir_output(self):\n",
    "        dir_path = QtWidgets.QFileDialog.getExistingDirectory(self, \"请选择文件夹路径\", \"D:\\\\\")\n",
    "        self.output.setText(dir_path)\n",
    "        \n",
    "    def Get_data(self, file):\n",
    "        '''获取单个Excel文件中的资料'''\n",
    "        wb = xlrd.open_workbook(file)\n",
    "        ws = wb.sheets()[0]\n",
    "        data = {}\n",
    "        for row in range(7, ws.nrows-2):\n",
    "            card_id = ws.cell(2, 16).value\n",
    "            car = ws.cell(3, 16).value\n",
    "            dt = ws.cell(row, 0).value\n",
    "            if type(dt) is float:\n",
    "                date_time = xlrd.xldate.xldate_as_datetime(dt, 0)\n",
    "            else:\n",
    "                date_time = datetime.datetime.strptime(dt,'%Y-%m-%d %H:%M:%S')\n",
    "            business = ws.cell(row, 2).value\n",
    "            model = ws.cell(row, 3).value\n",
    "            qty = ws.cell(row, 4).value\n",
    "            unit_price = ws.cell(row, 6).value\n",
    "            price = ws.cell(row, 8).value\n",
    "            reward = ws.cell(row, 9).value\n",
    "            discount = ws.cell(row, 11).value\n",
    "            balance = ws.cell(row, 13).value\n",
    "            location = str(ws.cell(row, 15).value).strip()\n",
    "            operator = ws.cell(row, 17).value\n",
    "            date = date_time.date()\n",
    "            time = date_time.time()\n",
    "            info_list=[card_id,car,date_time,business,model,qty,unit_price,price,reward,discount,\n",
    "                       balance,location,operator,date,time]\n",
    "            data.setdefault(date,[])\n",
    "            if info_list[3] != \"备注\":\n",
    "                data[date].append(info_list)\n",
    "        #增加当日加油次数        \n",
    "        for key in data.keys():\n",
    "            for i in data[key]:\n",
    "                i.append(len(data[key]))\n",
    "        return data\n",
    "    \n",
    "    def Get_file_path(self,path):        \n",
    "        files=[]\n",
    "        for file in os.listdir(path):\n",
    "            if file.endswith(\".xls\"): #排除文件夹内的其它干扰文件\n",
    "                files.append(path+\"\\\\\"+file)\n",
    "        return files\n",
    "    \n",
    "    def Get_current_time(self):\n",
    "        time_stamp = time.time()  # 当前时间的时间戳\n",
    "        local_time = time.localtime(time_stamp)  #\n",
    "        str_time = time.strftime('%Y-%m-%d %H.%M.%S', local_time)\n",
    "        return str_time\n",
    "    \n",
    "    def Summary_data(self,files):\n",
    "        thin = Side(border_style=\"thin\", color=\"000000\")#定义边框粗细及颜色\n",
    "        title = ['部门', '部门编号', '时间', '业务类型', '品种', '数量', '单价', '金额', '额外值',\n",
    "         '调整', '剩余', '库位', '操作员', '领取日期', '领取时间', '领取次数']\n",
    "\n",
    "        wb = Workbook() \n",
    "        ws = wb.active\n",
    "        ws.merge_cells(\"A1:P1\")\n",
    "        ws.cell(1,1).value = \"领料明细汇总表\"\n",
    "        ws.cell(1,1).font = Font(name=u'黑体',bold=True,size=18)\n",
    "        ws.row_dimensions[1].height  = 22.2\n",
    "        ws.cell(1,1).alignment = Alignment(horizontal=\"center\", vertical=\"center\")\n",
    "        ws.append(title)\n",
    "\n",
    "        #插入数据\n",
    "        files = self.Get_file_path(self.input.text()) #获取文本编辑框中的输入文件目录，并获取目录下的xls文件\n",
    "        for file in files:\n",
    "            data = self.Get_data(file)\n",
    "            for key in data.keys():\n",
    "                for i in data[key]:\n",
    "                    ws.append(i)\n",
    "            f = QtWidgets.QListWidgetItem(f\"{file} 的内容已加入总表.\") # 创建一个显示项\n",
    "            self.show_result.addItem(f) # 将结果添加到部件中\n",
    "\n",
    "        #设置字号，对齐，缩小字体填充，加边框\n",
    "        #Font(bold=True)可加粗字体\n",
    "        for row_number in range(2, ws.max_row+1):\n",
    "            for col_number in range(1,17):\n",
    "                c = ws.cell(row=row_number,column=col_number)\n",
    "                c.font = Font(size=9)\n",
    "                c.border = Border(top=thin, left=thin, right=thin, bottom=thin)\n",
    "                c.alignment = Alignment(horizontal=\"left\", vertical=\"center\")\n",
    "\n",
    "        col_name= list(\"ABCDEFGHIJKLMNOP\")\n",
    "        col_width = [8, 8, 16, 8, 16, 8, 8, 9.8, 8, 8, 8, 11, 8.3, 9, 8, 8]\n",
    "        for i in range(len(col_name)):\n",
    "            ws.column_dimensions[col_name[i]].width = col_width[i]\n",
    "\n",
    "        ws.column_dimensions.group('I','K',hidden=True)\n",
    "        ws.column_dimensions.group('N','O',hidden=True)\n",
    "\n",
    "        wb.save(f\"{self.output.text()}\\\\领料明细汇总表{self.Get_current_time()}.xlsx\")\n",
    "        f = QtWidgets.QListWidgetItem(f\"\\n领料明细汇总表{self.Get_current_time()}.xlsx 已生成，请去输出文件夹查看.\") # 创建一个显示项\n",
    "        self.show_result.addItem(f) # 将结果添加到部件中\n",
    "\n",
    "            \n",
    "def main():\n",
    "    app = QtWidgets.QApplication(sys.argv)\n",
    "    app.setWindowIcon(QIcon(\"PO.ico\"))#设置界面左上角图标\n",
    "    gui = MainGUI()\n",
    "    gui.show()\n",
    "    sys.exit(app.exec_())\n",
    "\n",
    "\n",
    "if __name__ == '__main__':\n",
    "    main()"
   ]
  },
  {
   "cell_type": "markdown",
   "metadata": {},
   "source": [
    "运行以上程序，界面出现。点击“选择输入文件夹”和“选择输出文件夹”按钮选择待处理的文件目录，和汇总文件的保存目录。然后点击“执行汇总”，很快可在列表控件处看到执行情况。再去输出文件夹，可看到汇总文件已经舒适地躺在那里啦。\n",
    "![](images\\window.png)"
   ]
  }
 ],
 "metadata": {
  "kernelspec": {
   "display_name": "Python 3",
   "language": "python",
   "name": "python3"
  },
  "language_info": {
   "codemirror_mode": {
    "name": "ipython",
    "version": 3
   },
   "file_extension": ".py",
   "mimetype": "text/x-python",
   "name": "python",
   "nbconvert_exporter": "python",
   "pygments_lexer": "ipython3",
   "version": "3.7.1"
  }
 },
 "nbformat": 4,
 "nbformat_minor": 2
}
