{
 "cells": [
  {
   "cell_type": "markdown",
   "metadata": {},
   "source": [
    "实例28讲了如何在Excel文件中自动合并上下行相同内容的单元格，此例则讲一讲如何在Word文件中做类似的操作。因为处理Excel和Word的模块是不同的，所以合并单元格也有一些差异。相对来说，Word中的操作更麻烦一些。在Excel中，我们手动合并单元格后，合并的单元格中只保留1个值，而Word则全部保留。比如在word中，3个单元格的内容都是“ABC”，合并之后就变成了“ABCABCABC”，这显然不是我们想要的。下图是原始文档，要求将第2列和第3列中，上下相邻单元格内容一样的合并。\n",
    "![](images\\problem.png)"
   ]
  },
  {
   "cell_type": "markdown",
   "metadata": {},
   "source": [
    "还是先定义合并单元格函数，以便后续多次调用。由于处理Word中表格的代码与处理Excel不同，所以函数也要做微调。主要变化就是合并的函数表达，对于word中的表格，表达式是`table.cell(row1,col1).merge(table.cell(row2,col2))`，意思是将第row1行col1列到row2行col2列之间的表格合并（row2,col2要分别大于等于row1和col1）。需要注意的是cell(0,0)表示第一行第一列的单元格，以此类推。如下函数是在例28的基础上修改的。"
   ]
  },
  {
   "cell_type": "code",
   "execution_count": 29,
   "metadata": {},
   "outputs": [],
   "source": [
    "#定义合并单元格的函数    \n",
    "def Merge_cells(table,target_list,start_row,col):\n",
    "    '''\n",
    "    table: 是需要操作的表格\n",
    "    target_list: 是目标列表，即含有重复数据的列表\n",
    "    start_row: 是开始行，即表格中开始比对数据的行（需要将标题除开）\n",
    "    col: 是需要处理数据的列\n",
    "    '''\n",
    "    start = 0 #开始行计数\n",
    "    end = 0 #结束行计数\n",
    "    reference = target_list[0] #设定基准，以列表中的第一个字符串开始\n",
    "    for i in range(len(target_list)): #遍历列表\n",
    "        if target_list[i] != reference: #开始比对，如果内容不同执行如下\n",
    "            reference = target_list[i] #基准变成列表中下一个字符串\n",
    "            end = i - 1 \n",
    "            table.cell(start+start_row,col).merge(table.cell(end+start_row,col))\n",
    "            start = end + 1\n",
    "        if i == len(target_list) - 1: #遍历到最后一行，按如下操作\n",
    "            end = i\n",
    "            table.cell(start+start_row,col).merge(table.cell(end+start_row,col))"
   ]
  },
  {
   "cell_type": "markdown",
   "metadata": {},
   "source": [
    "然后需要读取word中相应表格里的数据，并提取出来，以便作为是否合并的判断基础。使用`Document`打开word文档，先查看一下其中表格的个数，以便我们锁定要处理的表格。由于word里面可能有隐藏表格，或者一个表格中有一段去掉了边框，让人看起来像是两个表格，直接在word中去数表格个数有时会不靠谱。通过`len(doc.tables)`看到，这个文档里面有2个表格。打开word文档，我们可以看到要处理的表格是第一个，即`doc.tables[0]`。如果情况较为复杂，我们可以打印表格中第一行单元格的内容进一步确认是否是我们需要处理的表格。确认好表格的序号后，就可以开始读取内容了。"
   ]
  },
  {
   "cell_type": "code",
   "execution_count": 15,
   "metadata": {
    "scrolled": false
   },
   "outputs": [
    {
     "name": "stdout",
     "output_type": "stream",
     "text": [
      "这个工作表有 2 个表格。\n",
      "\n",
      "第一个表格的第一行的单元格中的内容如下：\n",
      "序号\n",
      "供应商名称\n",
      "货物编码\n",
      "货物型号\n",
      "货物说明\n",
      "数量\n",
      "日期\n"
     ]
    }
   ],
   "source": [
    "from docx import Document\n",
    "doc = Document(\"收货记录.docx\")\n",
    "print(\"这个工作表有 {} 个表格。\\n\".format(len(doc.tables))) #查看表格中的个数，以便锁定我们要处理的表格\n",
    "\n",
    "print(\"第一个表格的第一行的单元格中的内容如下：\")\n",
    "for i in doc.tables[0].rows[0].cells: #读取第一个表格的第一行的单元格中的内容\n",
    "    print(i.text)"
   ]
  },
  {
   "cell_type": "code",
   "execution_count": 16,
   "metadata": {},
   "outputs": [
    {
     "data": {
      "text/plain": [
       "'序号'"
      ]
     },
     "execution_count": 16,
     "metadata": {},
     "output_type": "execute_result"
    }
   ],
   "source": [
    "doc.tables[0].rows[0].cells[0].text"
   ]
  },
  {
   "cell_type": "code",
   "execution_count": 24,
   "metadata": {},
   "outputs": [
    {
     "name": "stdout",
     "output_type": "stream",
     "text": [
      "表格共有30行\n",
      "获取到28个供应商名称，28个物料编码。\n"
     ]
    }
   ],
   "source": [
    "#读取word文档中的第一个表格的第二和第三列除标题和尾部总数行的数据\n",
    "doc = Document(\"收货记录.docx\")\n",
    "table = doc.tables[0] #已确定是第一个表格，其索引是0\n",
    "supplier = [] #存储供应商名称\n",
    "pn = [] #存储物料编码\n",
    "max_row = len(table.rows) #获取第最大一行\n",
    "print(\"表格共有{}行\".format(max_row))\n",
    "\n",
    "#读取第二行到29行，第2，3列中的数据\n",
    "for i in range(1,max_row-1):\n",
    "    supplier_name = table.rows[i].cells[1].text #cells[1]指表格第二列\n",
    "    supplier.append(supplier_name)\n",
    "    \n",
    "for i in range(1,max_row-1):\n",
    "    material_pn = table.rows[i].cells[2].text #cells[2]指表格第三列\n",
    "    pn.append(material_pn)\n",
    "    \n",
    "print(\"获取到{}个供应商名称，{}个物料编码。\".format(len(supplier),len(pn)))"
   ]
  },
  {
   "cell_type": "code",
   "execution_count": 22,
   "metadata": {},
   "outputs": [
    {
     "data": {
      "text/plain": [
       "['供应商HH', '供应商HH', '供应商HH', '供应商HH', '供应商HH']"
      ]
     },
     "execution_count": 22,
     "metadata": {},
     "output_type": "execute_result"
    }
   ],
   "source": [
    "supplier[:5]"
   ]
  },
  {
   "cell_type": "code",
   "execution_count": 23,
   "metadata": {
    "scrolled": true
   },
   "outputs": [
    {
     "data": {
      "text/plain": [
       "['PROYY-0001', 'PROYY-0001', 'PROYY-0001', 'PROYY-0002', 'PROYY-0002']"
      ]
     },
     "execution_count": 23,
     "metadata": {},
     "output_type": "execute_result"
    }
   ],
   "source": [
    "pn[:5]"
   ]
  },
  {
   "cell_type": "markdown",
   "metadata": {},
   "source": [
    "以上程序，获取了表格中第2列和第3列的数据，并存入了列表`supplier`和`pn`。然后就可以开始判断，并合并单元格了。下面调用之前定义好的函数`Merge_cells`，传入相应的参数，运行即可完成单元格合并。"
   ]
  },
  {
   "cell_type": "code",
   "execution_count": 30,
   "metadata": {},
   "outputs": [],
   "source": [
    "Merge_cells(table,supplier,1,1) #开始合并行为2，索引为1；供应商名称是在2列，索引为1\n",
    "Merge_cells(table,pn,1,2) #开始合并行为2，索引为1；物料编码是在3列，索引为2\n",
    "doc.save(\"检查.docx\")"
   ]
  },
  {
   "cell_type": "markdown",
   "metadata": {},
   "source": [
    "到这一步，合并单元格算是完成了，但结果如下图所示，原单元格中的内容全部集中在一起，造成了重复内容。我们需要重写这些单元格以覆盖掉重复的内容，即可得到我们想要的结果。\n",
    "![](images\\check.png)"
   ]
  },
  {
   "cell_type": "code",
   "execution_count": 34,
   "metadata": {},
   "outputs": [],
   "source": [
    "#重新往第2和第3列写入数据，以覆盖之前重复的数据\n",
    "for row in range(1,len(supplier)+1):\n",
    "    table.cell(row,1).text = supplier[row-2]\n",
    "    table.cell(row,2).text = pn[row-2]\n",
    "doc.save(\"收货记录-合并单元格.docx\")"
   ]
  },
  {
   "cell_type": "markdown",
   "metadata": {},
   "source": [
    "为什么写入合并单元格的时候，也是将合并之前的每个单元格都写了一次（比如写入“供应商HH”到第二行第1到6列的时候，写入了6次），为什么不会造成重复内容呢？是因为每写一次，就将原来的内容清空了。最终结果如下，目标达成！\n",
    "![](images\\result.png)"
   ]
  },
  {
   "cell_type": "code",
   "execution_count": null,
   "metadata": {},
   "outputs": [],
   "source": []
  }
 ],
 "metadata": {
  "kernelspec": {
   "display_name": "Python 3",
   "language": "python",
   "name": "python3"
  },
  "language_info": {
   "codemirror_mode": {
    "name": "ipython",
    "version": 3
   },
   "file_extension": ".py",
   "mimetype": "text/x-python",
   "name": "python",
   "nbconvert_exporter": "python",
   "pygments_lexer": "ipython3",
   "version": "3.6.5"
  }
 },
 "nbformat": 4,
 "nbformat_minor": 2
}
