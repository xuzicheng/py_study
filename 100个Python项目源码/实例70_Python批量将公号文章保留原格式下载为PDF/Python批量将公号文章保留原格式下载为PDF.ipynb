{
 "cells": [
  {
   "cell_type": "markdown",
   "metadata": {},
   "source": [
    "看上了一个公号的文章，想保留原格式批量下载成PDF文件，以便在本地阅读。如果想看老一点的文章，就再也不用去使劲往下滑了。要爬取文章，首先要获得文章的链接。公号不像网页，可直接“审查元素”获得链接，而需要通过抓包软件获取到相关参数。此处用到抓包软件`Fiddler`(可公众号回复“源文件”下载)及电脑版微信。\n",
    "<br/>\n",
    "<br/>安装好`Fiddler`后，会提示更新。其实就用这个版本就够了，不用浪费时间升级。打开界面，设置一下过滤，只抓取微信的包（如下图）。选中\"Filters\"，然后勾选\"Use Filters\"，再勾选\"Show only if URL contains\"，在后面的文本框中输入“mp.weixin”即可。"
   ]
  },
  {
   "cell_type": "markdown",
   "metadata": {},
   "source": [
    "![](images\\filter.png)"
   ]
  },
  {
   "cell_type": "markdown",
   "metadata": {},
   "source": [
    "然后打开电脑版微信，进入目标公号，点击“查看历史消息”进入，然后鼠标往下滚动让公众号加载更多文章。这时就能在`Fiddler`界面看到抓取到的信息了。"
   ]
  },
  {
   "cell_type": "markdown",
   "metadata": {},
   "source": [
    "![](images\\wechat.png)"
   ]
  },
  {
   "cell_type": "markdown",
   "metadata": {},
   "source": [
    "在界面左边选择“Inspectors”、“WebForms”和“JSON”（如下图），就能看到我们需要的信息。其中“WebForms”下面的“QueryString”里面就是请求信息，其中的一些关键参数在我们批量请求的时候要用到。“JSON”下面的“general_msg_list”里面就包含当前页面的所有文章的链接、标题、发表时间等信息。"
   ]
  },
  {
   "cell_type": "markdown",
   "metadata": {},
   "source": [
    "![](images\\get_weixin.png)\n",
    "![](images\\paras.png)"
   ]
  },
  {
   "cell_type": "markdown",
   "metadata": {},
   "source": [
    "请求信息的参数中，除了`offset`会随着翻页而变化外，其他参数在每一页中都是固定不变的。`offset`是以10的倍数增加，即表示一页包含10篇文章，首页的`offset`值为0。另外，`key`会随着时间的变化而变化，如果突然不能获取到信息的话，很有可能就是`key`变了，需要重新抓包获取。\n",
    "<br/>\n",
    "<br/>我们按如下程序先来构建一个公号首页文章的请求，测试一下能不能工作。先导入`requests`和`json`库，分别用于请求目标链接获取信息，以及将包含信息的大字符串转换成python能够识别的格式。然后定义公号的链接，设置`headers`假装是浏览器在访问。`proxies`用于设置代理IP，它的格式是一个字典，有`http`与`https`两种，在爬取不同网站时需选用不同的`proxise`，此处将两种类型均放进去，`requests`会自动按需选择。然后将其它关键参数都从`Fiddler`界面中复制过来，并放入字典`params`。\n",
    "<br/>\n",
    "<br/>传入相关参数，并通过`requests.get()`请求获取信息，存入变量`response`，通过`response.text`显示获取到的结果。"
   ]
  },
  {
   "cell_type": "code",
   "execution_count": 74,
   "metadata": {
    "scrolled": true
   },
   "outputs": [
    {
     "name": "stdout",
     "output_type": "stream",
     "text": [
      "{\"ret\":0,\"errmsg\":\"ok\",\"msg_count\":10,\"can_msg_continue\":1,\"general_msg_list\":\"{\\\"list\\\":[{\\\"comm_msg_info\\\":{\\\"id\\\":1000000078,\\\"type\\\":49,\\\"datetime\\\":1594366155,\\\"fakeid\\\":\\\"3588873007\\\",\\\"status\\\":2,\\\"content\\\":\\\"\\\"},\\\"app_msg_ext_info\\\":{\\\"title\\\":\\\"Python保留格式复制多个excel工作表到汇总表并生成目录(实例69)\\\",\\\"digest\\\":\\\"保留原格式复制excel表，就数它强~\\\",\\\"content\\\":\\\"\\\",\\\"fileid\\\":100000741,\\\"content_url\\\":\\\"http:\\/\\/mp.weixin.qq.com\\/s?__biz=MzU4ODg3MzAwNw==&amp;mid=2247484393&amp;idx=1&amp;sn=bf00bf10cd550866cfd0e3b4ecdf3696&amp;chksm=fdd76fa9caa0e6bf065f7a1b2f5f48a98a1cd5979e09fb4713f56b20abc5283bd2c5f014fb6e&amp;scene=27#wechat_redirect\\\",\\\"source_url\\\":\\\"\\\",\\\"cover\\\":\\\"http:\\/\\/mmbiz.qpic.cn\\/mmbiz_jpg\\/h9IkZnic79uO6fVCEFbuPnW4SzZjl25KuBiaaLd1HfTugZOibUCBibcUHicArcPBsGOwIWsCoYqtCHwL5YlQhzWCWWA\\/0?wx_fmt=jpeg\\\",\\\"subtype\\\":9,\\\"is_multi\\\":0,\\\"multi_app_msg_item_list\\\":[],\\\"author\\\":\\\"PythonOffice\\\",\\\"copyright_stat\\\":11,\\\"duration\\\":0,\\\"del_flag\\\":1,\\\"item_show_type\\\":0,\\\"audio_fileid\\\":0,\\\"play_url\\\":\\\"\\\",\\\"malicious_title_reason_id\\\":0,\\\"malicious_content_type\\\":0}},{\\\"comm_msg_info\\\":{\\\"id\\\":1000000077,\\\"type\\\":49,\\\"datetime\\\":1594281308,\\\"fakeid\\\":\\\"3588873007\\\",\\\"status\\\":2,\\\"content\\\":\\\"\\\"},\\\"app_msg_ext_info\\\":{\\\"title\\\":\\\"Python批量新建文件夹并保存日志信息(实例68)\\\",\\\"digest\\\":\\\"批量新建文件夹，数量还有记忆功能哦~\\\",\\\"content\\\":\\\"\\\",\\\"fileid\\\":100000733,\\\"content_url\\\":\\\"http:\\/\\/mp.weixin.qq.com\\/s?__biz=MzU4ODg3MzAwNw==&amp;mid=2247484385&amp;idx=1&amp;sn=30e05ced3e5a850eb867b257c7b2325a&amp;chksm=fdd76fa1caa0e6b7065945315ac2179bd8f4bc1a8171221938b1d84373f78ccb16144e801239&amp;scene=27#wechat_redirect\\\",\\\"source_url\\\":\\\"\\\",\\\"cover\\\":\\\"http:\\/\\/mmbiz.qpic.cn\\/mmbiz_jpg\\/h9IkZnic79uOT5n814RRmFpZmxC113v4g7Zff6QQXUgwqeKdBuVolln8OHnv2nSls1AJLrdO7zKSWXpiboh6o7UQ\\/0?wx_fmt=jpeg\\\",\\\"subtype\\\":9,\\\"is_multi\\\":0,\\\"multi_app_msg_item_list\\\":[],\\\"author\\\":\\\"PythonOffice\\\",\\\"copyright_stat\\\":11,\\\"duration\\\":0,\\\"del_flag\\\":1,\\\"item_show_type\\\":0,\\\"audio_fileid\\\":0,\\\"play_url\\\":\\\"\\\",\\\"malicious_title_reason_id\\\":0,\\\"malicious_content_type\\\":0}},{\\\"comm_msg_info\\\":{\\\"id\\\":1000000076,\\\"type\\\":49,\\\"datetime\\\":1594194221,\\\"fakeid\\\":\\\"3588873007\\\",\\\"status\\\":2,\\\"content\\\":\\\"\\\"},\\\"app_msg_ext_info\\\":{\\\"title\\\":\\\"Python爬取博客的所有文章并存为带目录的word文档(实例67)\\\",\\\"digest\\\":\\\"Python一次爬取博客所有文章，更方便阅读。\\\",\\\"content\\\":\\\"\\\",\\\"fileid\\\":100000725,\\\"content_url\\\":\\\"http:\\/\\/mp.weixin.qq.com\\/s?__biz=MzU4ODg3MzAwNw==&amp;mid=2247484377&amp;idx=1&amp;sn=736b58e978d71d497f4aefea9f668e79&amp;chksm=fdd76f99caa0e68ff857b1779dbe2e260e18482984a779f3d7d8f0298943e3aaea5a482f0645&amp;scene=27#wechat_redirect\\\",\\\"source_url\\\":\\\"\\\",\\\"cover\\\":\\\"http:\\/\\/mmbiz.qpic.cn\\/mmbiz_jpg\\/h9IkZnic79uMExHcvyZ6YahJ5ZpicWHGic82tfrVenE6ZbCL8egZd6MFrASe8lcS4mhwuJY9CeN5ksarTqk9Vwp5Q\\/0?wx_fmt=jpeg\\\",\\\"subtype\\\":9,\\\"is_multi\\\":0,\\\"multi_app_msg_item_list\\\":[],\\\"author\\\":\\\"PythonOffice\\\",\\\"copyright_stat\\\":11,\\\"duration\\\":0,\\\"del_flag\\\":1,\\\"item_show_type\\\":0,\\\"audio_fileid\\\":0,\\\"play_url\\\":\\\"\\\",\\\"malicious_title_reason_id\\\":0,\\\"malicious_content_type\\\":0}},{\\\"comm_msg_info\\\":{\\\"id\\\":1000000075,\\\"type\\\":49,\\\"datetime\\\":1593680100,\\\"fakeid\\\":\\\"3588873007\\\",\\\"status\\\":2,\\\"content\\\":\\\"\\\"},\\\"app_msg_ext_info\\\":{\\\"title\\\":\\\"Python一键更新Excel档“生产订单周报”的图表(实例66)\\\",\\\"digest\\\":\\\"Python一键更新Excel档周报的图表~\\\",\\\"content\\\":\\\"\\\",\\\"fileid\\\":0,\\\"content_url\\\":\\\"http:\\/\\/mp.weixin.qq.com\\/s?__biz=MzU4ODg3MzAwNw==&amp;mid=2247484360&amp;idx=1&amp;sn=3c0d10d669cd30e3a1e4db94cc5bc94b&amp;chksm=fdd76f88caa0e69ec3230ed062664343d269a03746644956c67b28389f1e6e56a97e70af8293&amp;scene=27#wechat_redirect\\\",\\\"source_url\\\":\\\"\\\",\\\"cover\\\":\\\"http:\\/\\/mmbiz.qpic.cn\\/mmbiz_jpg\\/h9IkZnic79uNDxtRc91KEZ4IXwHYYImomH0gFhz8kYBicv4iaAroW1QibAYHUavhGBF3zFRO67dIWxsib1I5sbIv40w\\/0?wx_fmt=jpeg\\\",\\\"subtype\\\":9,\\\"is_multi\\\":0,\\\"multi_app_msg_item_list\\\":[],\\\"author\\\":\\\"PythonOffice\\\",\\\"copyright_stat\\\":11,\\\"duration\\\":0,\\\"del_flag\\\":1,\\\"item_show_type\\\":0,\\\"audio_fileid\\\":0,\\\"play_url\\\":\\\"\\\",\\\"malicious_title_reason_id\\\":0,\\\"malicious_content_type\\\":0}},{\\\"comm_msg_info\\\":{\\\"id\\\":1000000074,\\\"type\\\":49,\\\"datetime\\\":1593588600,\\\"fakeid\\\":\\\"3588873007\\\",\\\"status\\\":2,\\\"content\\\":\\\"\\\"},\\\"app_msg_ext_info\\\":{\\\"title\\\":\\\"Python识别加密的word文件并移动到单独文件夹(实例65)\\\",\\\"digest\\\":\\\"如何用Python删选出加密的word文件？\\\",\\\"content\\\":\\\"\\\",\\\"fileid\\\":100000696,\\\"content_url\\\":\\\"http:\\/\\/mp.weixin.qq.com\\/s?__biz=MzU4ODg3MzAwNw==&amp;mid=2247484348&amp;idx=1&amp;sn=45477db60221fe8ae283fb4267e450c9&amp;chksm=fdd76ffccaa0e6ea1c7a121a653e4ad46061fe22c284207deea60361a3c959cd204b6d812150&amp;scene=27#wechat_redirect\\\",\\\"source_url\\\":\\\"\\\",\\\"cover\\\":\\\"http:\\/\\/mmbiz.qpic.cn\\/mmbiz_jpg\\/h9IkZnic79uNpw25re8fN1vIpWgrKqa2VYvFrOdGSIGkHE0gEmeof9paKRwFPPicS7fFnrjcBc51sWVtjzOuoH8w\\/0?wx_fmt=jpeg\\\",\\\"subtype\\\":9,\\\"is_multi\\\":0,\\\"multi_app_msg_item_list\\\":[],\\\"author\\\":\\\"PythonOffice\\\",\\\"copyright_stat\\\":11,\\\"duration\\\":0,\\\"del_flag\\\":1,\\\"item_show_type\\\":0,\\\"audio_fileid\\\":0,\\\"play_url\\\":\\\"\\\",\\\"malicious_title_reason_id\\\":0,\\\"malicious_content_type\\\":0}},{\\\"comm_msg_info\\\":{\\\"id\\\":1000000073,\\\"type\\\":49,\\\"datetime\\\":1593518400,\\\"fakeid\\\":\\\"3588873007\\\",\\\"status\\\":2,\\\"content\\\":\\\"\\\"},\\\"app_msg_ext_info\\\":{\\\"title\\\":\\\"Python分块拆分txt文件中的数据(实例64)\\\",\\\"digest\\\":\\\"Python分块拆分txt文件中的数据。\\\",\\\"content\\\":\\\"\\\",\\\"fileid\\\":100000688,\\\"content_url\\\":\\\"http:\\/\\/mp.weixin.qq.com\\/s?__biz=MzU4ODg3MzAwNw==&amp;mid=2247484341&amp;idx=1&amp;sn=c90045b2c68b4153a9735da136def448&amp;chksm=fdd76ff5caa0e6e3f968367d69e3b06486173e572f0757359071bac97c49bc57d50ae7c6bc8a&amp;scene=27#wechat_redirect\\\",\\\"source_url\\\":\\\"\\\",\\\"cover\\\":\\\"http:\\/\\/mmbiz.qpic.cn\\/mmbiz_jpg\\/h9IkZnic79uOQTCtss2b1c6OMibnrvmGSKZNKMxbWCiaZYV4vS9icy8jk20OIeFvYEx4Pm5gDBb28wV1yrM9VF1VlA\\/0?wx_fmt=jpeg\\\",\\\"subtype\\\":9,\\\"is_multi\\\":0,\\\"multi_app_msg_item_list\\\":[],\\\"author\\\":\\\"PythonOffice\\\",\\\"copyright_stat\\\":11,\\\"duration\\\":0,\\\"del_flag\\\":1,\\\"item_show_type\\\":0,\\\"audio_fileid\\\":0,\\\"play_url\\\":\\\"\\\",\\\"malicious_title_reason_id\\\":0,\\\"malicious_content_type\\\":0}},{\\\"comm_msg_info\\\":{\\\"id\\\":1000000071,\\\"type\\\":49,\\\"datetime\\\":1593435620,\\\"fakeid\\\":\\\"3588873007\\\",\\\"status\\\":2,\\\"content\\\":\\\"\\\"},\\\"app_msg_ext_info\\\":{\\\"title\\\":\\\"用Tkinter制作Python程序的图形用户界面(GUI)，打包后比Qt5减少60M(77.5%)(实例63)\\\",\\\"digest\\\":\\\"打包后的文件小了%，以后还是抛弃PyQt5，用Tkinter制作图形用户界面吧。\\\",\\\"content\\\":\\\"\\\",\\\"fileid\\\":100000677,\\\"content_url\\\":\\\"http:\\/\\/mp.weixin.qq.com\\/s?__biz=MzU4ODg3MzAwNw==&amp;mid=2247484330&amp;idx=1&amp;sn=c9ba6dfb6d39c3d660b5128c11d4e695&amp;chksm=fdd76feacaa0e6fccc2462f242ca000e8d6a3f1907539e473b43cf04c3688f402a23a6d2b0ba&amp;scene=27#wechat_redirect\\\",\\\"source_url\\\":\\\"\\\",\\\"cover\\\":\\\"http:\\/\\/mmbiz.qpic.cn\\/mmbiz_jpg\\/h9IkZnic79uOL6azy7noRFOYu13ZTxtxaR0GxZvl9pL5tFGU88hibZWIxhV2AoicInvB823Y8h7oHUiag9TnkqE7hQ\\/0?wx_fmt=jpeg\\\",\\\"subtype\\\":9,\\\"is_multi\\\":0,\\\"multi_app_msg_item_list\\\":[],\\\"author\\\":\\\"PythonOffice\\\",\\\"copyright_stat\\\":11,\\\"duration\\\":0,\\\"del_flag\\\":1,\\\"item_show_type\\\":0,\\\"audio_fileid\\\":0,\\\"play_url\\\":\\\"\\\",\\\"malicious_title_reason_id\\\":0,\\\"malicious_content_type\\\":0}},{\\\"comm_msg_info\\\":{\\\"id\\\":1000000070,\\\"type\\\":49,\\\"datetime\\\":1593138600,\\\"fakeid\\\":\\\"3588873007\\\",\\\"status\\\":2,\\\"content\\\":\\\"\\\"},\\\"app_msg_ext_info\\\":{\\\"title\\\":\\\"将Python程序打包成安装文件分享给小伙伴(实例62)\\\",\\\"digest\\\":\\\"Python打包程序，分享给小伙伴~\\\",\\\"content\\\":\\\"\\\",\\\"fileid\\\":100000668,\\\"content_url\\\":\\\"http:\\/\\/mp.weixin.qq.com\\/s?__biz=MzU4ODg3MzAwNw==&amp;mid=2247484320&amp;idx=1&amp;sn=d6cdefbeacc30cd2e8dd96dc810fc74b&amp;chksm=fdd76fe0caa0e6f663d8f835f906c65bb73439b268cf1a035b420c619b5c77a9d61ca9f85780&amp;scene=27#wechat_redirect\\\",\\\"source_url\\\":\\\"\\\",\\\"cover\\\":\\\"http:\\/\\/mmbiz.qpic.cn\\/mmbiz_jpg\\/h9IkZnic79uPjhZLuay9hdx8QibzNg289CsmiaAnN7tVic584tCLz8ciaJicHO7jZWIXgJLwaYXGCHia6sJibk38r4aUHw\\/0?wx_fmt=jpeg\\\",\\\"subtype\\\":9,\\\"is_multi\\\":0,\\\"multi_app_msg_item_list\\\":[],\\\"author\\\":\\\"PythonOffice\\\",\\\"copyright_stat\\\":11,\\\"duration\\\":0,\\\"del_flag\\\":1,\\\"item_show_type\\\":0,\\\"audio_fileid\\\":0,\\\"play_url\\\":\\\"\\\",\\\"malicious_title_reason_id\\\":0,\\\"malicious_content_type\\\":0}},{\\\"comm_msg_info\\\":{\\\"id\\\":1000000069,\\\"type\\\":49,\\\"datetime\\\":1593054761,\\\"fakeid\\\":\\\"3588873007\\\",\\\"status\\\":2,\\\"content\\\":\\\"\\\"},\\\"app_msg_ext_info\\\":{\\\"title\\\":\\\"Python制作图形用户界面(GUI)让操作可视化(实例61)\\\",\\\"digest\\\":\\\"Python写操作界面，对人类很友好。\\\",\\\"content\\\":\\\"\\\",\\\"fileid\\\":100000653,\\\"content_url\\\":\\\"http:\\/\\/mp.weixin.qq.com\\/s?__biz=MzU4ODg3MzAwNw==&amp;mid=2247484305&amp;idx=1&amp;sn=f6ef070eb80b0a708d1b84337528ea6b&amp;chksm=fdd76fd1caa0e6c7cc5fb8c89086d061fa6dc64cf4a54d5d965050a56fc8208e2651fd7a48f9&amp;scene=27#wechat_redirect\\\",\\\"source_url\\\":\\\"\\\",\\\"cover\\\":\\\"http:\\/\\/mmbiz.qpic.cn\\/mmbiz_jpg\\/h9IkZnic79uMiaGWLPuianTSsj8z2x2ySknAJkoD8Oj3ibXtQ2u5swhBahGXaPYpicKpb4TELgBeQQkcFAoor1ZanPQ\\/0?wx_fmt=jpeg\\\",\\\"subtype\\\":9,\\\"is_multi\\\":0,\\\"multi_app_msg_item_list\\\":[],\\\"author\\\":\\\"PythonOffice\\\",\\\"copyright_stat\\\":11,\\\"duration\\\":0,\\\"del_flag\\\":1,\\\"item_show_type\\\":0,\\\"audio_fileid\\\":0,\\\"play_url\\\":\\\"\\\",\\\"malicious_title_reason_id\\\":0,\\\"malicious_content_type\\\":0}},{\\\"comm_msg_info\\\":{\\\"id\\\":1000000068,\\\"type\\\":49,\\\"datetime\\\":1592978400,\\\"fakeid\\\":\\\"3588873007\\\",\\\"status\\\":2,\\\"content\\\":\\\"\\\"},\\\"app_msg_ext_info\\\":{\\\"title\\\":\\\"Python汇总各单位Excel档领料记录并加总每日领用次数(实例60)\\\",\\\"digest\\\":\\\"Python处理 “xls” 文件中的数据。\\\",\\\"content\\\":\\\"\\\",\\\"fileid\\\":100000640,\\\"content_url\\\":\\\"http:\\/\\/mp.weixin.qq.com\\/s?__biz=MzU4ODg3MzAwNw==&amp;mid=2247484292&amp;idx=1&amp;sn=14f095a87dcedaafffce04308d300207&amp;chksm=fdd76fc4caa0e6d2b7157c62a91e86e4e5d06566519886a7a03ef6b33579af767809366e463c&amp;scene=27#wechat_redirect\\\",\\\"source_url\\\":\\\"\\\",\\\"cover\\\":\\\"http:\\/\\/mmbiz.qpic.cn\\/mmbiz_jpg\\/h9IkZnic79uPPYrzay1s3NmfpUI6qYIHibXhSI8BpI1ibWePt33ibVibIeMdib21ZymDJQn9xxpObWlGHX3dfToib2ia6Q\\/0?wx_fmt=jpeg\\\",\\\"subtype\\\":9,\\\"is_multi\\\":0,\\\"multi_app_msg_item_list\\\":[],\\\"author\\\":\\\"PythonOffice\\\",\\\"copyright_stat\\\":11,\\\"duration\\\":0,\\\"del_flag\\\":1,\\\"item_show_type\\\":0,\\\"audio_fileid\\\":0,\\\"play_url\\\":\\\"\\\",\\\"malicious_title_reason_id\\\":0,\\\"malicious_content_type\\\":0}}]}\",\"next_offset\":10,\"video_count\":0,\"use_video_tab\":1,\"real_type\":0,\"home_page_list\":[]}\n"
     ]
    }
   ],
   "source": [
    "import requests\n",
    "import json\n",
    "url = \"https://mp.weixin.qq.com/mp/profile_ext\" #公号的链接\n",
    "headers = {\"User-Agent\": \"Mozilla/5.0 (Windows NT 10.0; Win64; x64) AppleWebKit/537.36 (KHTML, like Gecko) Chrome/83.0.4103.116 Safari/537.36 \"}\n",
    "proxies = {\n",
    "    'https': None,\n",
    "    'http': None,\n",
    "}\n",
    "uin = 'ODQ5NDE0MTMw'\n",
    "# Key会随时间变化，需要获取最新的key，不然抓取不到数据\n",
    "key = '3aa16237e25e21dabcda4cd2ced4c12ffa2a3653c9c8c5e8a397118866c992ff8c540f35d683436a36bb7fa70ef2e204b8428e96e40fd51b388ceeefb554ea0db4d8cecc43d2b9e2c2620f6f029401aa'\n",
    "# 重要参数\n",
    "params = {\n",
    "    'action': 'getmsg',\n",
    "    '__biz': 'MzU4ODg3MzAwNw==', #每个公众号的不一样，从Fiddler复制过来\n",
    "    'f': 'json',\n",
    "    'offset': 0, #控制翻页\n",
    "    'count': '10',\n",
    "    'is_ok': '1',\n",
    "    'scene': '124',\n",
    "    'uin': uin, #每个公众号的不一样，从Fiddler复制过来\n",
    "    'key': key, #每个公众号的不一样，从Fiddler复制过来\n",
    "    'wxtoken': '',\n",
    "    'x5': '0',\n",
    "}\n",
    "\n",
    "# 获取公众号页面信息\n",
    "response = requests.get(url, headers=headers, params=params, proxies=proxies)\n",
    "print(response.text)"
   ]
  },
  {
   "cell_type": "markdown",
   "metadata": {},
   "source": [
    "通过上图可以看到，首页的10篇文章的信息就被获取到了。但此时的信息是一个大字符串，python无法识别。所以需要使用`json.loads()`转换，转换后存入`response_dict`。"
   ]
  },
  {
   "cell_type": "code",
   "execution_count": 75,
   "metadata": {},
   "outputs": [
    {
     "data": {
      "text/plain": [
       "str"
      ]
     },
     "execution_count": 75,
     "metadata": {},
     "output_type": "execute_result"
    }
   ],
   "source": [
    "type(response.text)"
   ]
  },
  {
   "cell_type": "code",
   "execution_count": 76,
   "metadata": {
    "scrolled": true
   },
   "outputs": [
    {
     "name": "stdout",
     "output_type": "stream",
     "text": [
      "{'ret': 0, 'errmsg': 'ok', 'msg_count': 10, 'can_msg_continue': 1, 'general_msg_list': '{\"list\":[{\"comm_msg_info\":{\"id\":1000000078,\"type\":49,\"datetime\":1594366155,\"fakeid\":\"3588873007\",\"status\":2,\"content\":\"\"},\"app_msg_ext_info\":{\"title\":\"Python保留格式复制多个excel工作表到汇总表并生成目录(实例69)\",\"digest\":\"保留原格式复制excel表，就数它强~\",\"content\":\"\",\"fileid\":100000741,\"content_url\":\"http://mp.weixin.qq.com/s?__biz=MzU4ODg3MzAwNw==&amp;mid=2247484393&amp;idx=1&amp;sn=bf00bf10cd550866cfd0e3b4ecdf3696&amp;chksm=fdd76fa9caa0e6bf065f7a1b2f5f48a98a1cd5979e09fb4713f56b20abc5283bd2c5f014fb6e&amp;scene=27#wechat_redirect\",\"source_url\":\"\",\"cover\":\"http://mmbiz.qpic.cn/mmbiz_jpg/h9IkZnic79uO6fVCEFbuPnW4SzZjl25KuBiaaLd1HfTugZOibUCBibcUHicArcPBsGOwIWsCoYqtCHwL5YlQhzWCWWA/0?wx_fmt=jpeg\",\"subtype\":9,\"is_multi\":0,\"multi_app_msg_item_list\":[],\"author\":\"PythonOffice\",\"copyright_stat\":11,\"duration\":0,\"del_flag\":1,\"item_show_type\":0,\"audio_fileid\":0,\"play_url\":\"\",\"malicious_title_reason_id\":0,\"malicious_content_type\":0}},{\"comm_msg_info\":{\"id\":1000000077,\"type\":49,\"datetime\":1594281308,\"fakeid\":\"3588873007\",\"status\":2,\"content\":\"\"},\"app_msg_ext_info\":{\"title\":\"Python批量新建文件夹并保存日志信息(实例68)\",\"digest\":\"批量新建文件夹，数量还有记忆功能哦~\",\"content\":\"\",\"fileid\":100000733,\"content_url\":\"http://mp.weixin.qq.com/s?__biz=MzU4ODg3MzAwNw==&amp;mid=2247484385&amp;idx=1&amp;sn=30e05ced3e5a850eb867b257c7b2325a&amp;chksm=fdd76fa1caa0e6b7065945315ac2179bd8f4bc1a8171221938b1d84373f78ccb16144e801239&amp;scene=27#wechat_redirect\",\"source_url\":\"\",\"cover\":\"http://mmbiz.qpic.cn/mmbiz_jpg/h9IkZnic79uOT5n814RRmFpZmxC113v4g7Zff6QQXUgwqeKdBuVolln8OHnv2nSls1AJLrdO7zKSWXpiboh6o7UQ/0?wx_fmt=jpeg\",\"subtype\":9,\"is_multi\":0,\"multi_app_msg_item_list\":[],\"author\":\"PythonOffice\",\"copyright_stat\":11,\"duration\":0,\"del_flag\":1,\"item_show_type\":0,\"audio_fileid\":0,\"play_url\":\"\",\"malicious_title_reason_id\":0,\"malicious_content_type\":0}},{\"comm_msg_info\":{\"id\":1000000076,\"type\":49,\"datetime\":1594194221,\"fakeid\":\"3588873007\",\"status\":2,\"content\":\"\"},\"app_msg_ext_info\":{\"title\":\"Python爬取博客的所有文章并存为带目录的word文档(实例67)\",\"digest\":\"Python一次爬取博客所有文章，更方便阅读。\",\"content\":\"\",\"fileid\":100000725,\"content_url\":\"http://mp.weixin.qq.com/s?__biz=MzU4ODg3MzAwNw==&amp;mid=2247484377&amp;idx=1&amp;sn=736b58e978d71d497f4aefea9f668e79&amp;chksm=fdd76f99caa0e68ff857b1779dbe2e260e18482984a779f3d7d8f0298943e3aaea5a482f0645&amp;scene=27#wechat_redirect\",\"source_url\":\"\",\"cover\":\"http://mmbiz.qpic.cn/mmbiz_jpg/h9IkZnic79uMExHcvyZ6YahJ5ZpicWHGic82tfrVenE6ZbCL8egZd6MFrASe8lcS4mhwuJY9CeN5ksarTqk9Vwp5Q/0?wx_fmt=jpeg\",\"subtype\":9,\"is_multi\":0,\"multi_app_msg_item_list\":[],\"author\":\"PythonOffice\",\"copyright_stat\":11,\"duration\":0,\"del_flag\":1,\"item_show_type\":0,\"audio_fileid\":0,\"play_url\":\"\",\"malicious_title_reason_id\":0,\"malicious_content_type\":0}},{\"comm_msg_info\":{\"id\":1000000075,\"type\":49,\"datetime\":1593680100,\"fakeid\":\"3588873007\",\"status\":2,\"content\":\"\"},\"app_msg_ext_info\":{\"title\":\"Python一键更新Excel档“生产订单周报”的图表(实例66)\",\"digest\":\"Python一键更新Excel档周报的图表~\",\"content\":\"\",\"fileid\":0,\"content_url\":\"http://mp.weixin.qq.com/s?__biz=MzU4ODg3MzAwNw==&amp;mid=2247484360&amp;idx=1&amp;sn=3c0d10d669cd30e3a1e4db94cc5bc94b&amp;chksm=fdd76f88caa0e69ec3230ed062664343d269a03746644956c67b28389f1e6e56a97e70af8293&amp;scene=27#wechat_redirect\",\"source_url\":\"\",\"cover\":\"http://mmbiz.qpic.cn/mmbiz_jpg/h9IkZnic79uNDxtRc91KEZ4IXwHYYImomH0gFhz8kYBicv4iaAroW1QibAYHUavhGBF3zFRO67dIWxsib1I5sbIv40w/0?wx_fmt=jpeg\",\"subtype\":9,\"is_multi\":0,\"multi_app_msg_item_list\":[],\"author\":\"PythonOffice\",\"copyright_stat\":11,\"duration\":0,\"del_flag\":1,\"item_show_type\":0,\"audio_fileid\":0,\"play_url\":\"\",\"malicious_title_reason_id\":0,\"malicious_content_type\":0}},{\"comm_msg_info\":{\"id\":1000000074,\"type\":49,\"datetime\":1593588600,\"fakeid\":\"3588873007\",\"status\":2,\"content\":\"\"},\"app_msg_ext_info\":{\"title\":\"Python识别加密的word文件并移动到单独文件夹(实例65)\",\"digest\":\"如何用Python删选出加密的word文件？\",\"content\":\"\",\"fileid\":100000696,\"content_url\":\"http://mp.weixin.qq.com/s?__biz=MzU4ODg3MzAwNw==&amp;mid=2247484348&amp;idx=1&amp;sn=45477db60221fe8ae283fb4267e450c9&amp;chksm=fdd76ffccaa0e6ea1c7a121a653e4ad46061fe22c284207deea60361a3c959cd204b6d812150&amp;scene=27#wechat_redirect\",\"source_url\":\"\",\"cover\":\"http://mmbiz.qpic.cn/mmbiz_jpg/h9IkZnic79uNpw25re8fN1vIpWgrKqa2VYvFrOdGSIGkHE0gEmeof9paKRwFPPicS7fFnrjcBc51sWVtjzOuoH8w/0?wx_fmt=jpeg\",\"subtype\":9,\"is_multi\":0,\"multi_app_msg_item_list\":[],\"author\":\"PythonOffice\",\"copyright_stat\":11,\"duration\":0,\"del_flag\":1,\"item_show_type\":0,\"audio_fileid\":0,\"play_url\":\"\",\"malicious_title_reason_id\":0,\"malicious_content_type\":0}},{\"comm_msg_info\":{\"id\":1000000073,\"type\":49,\"datetime\":1593518400,\"fakeid\":\"3588873007\",\"status\":2,\"content\":\"\"},\"app_msg_ext_info\":{\"title\":\"Python分块拆分txt文件中的数据(实例64)\",\"digest\":\"Python分块拆分txt文件中的数据。\",\"content\":\"\",\"fileid\":100000688,\"content_url\":\"http://mp.weixin.qq.com/s?__biz=MzU4ODg3MzAwNw==&amp;mid=2247484341&amp;idx=1&amp;sn=c90045b2c68b4153a9735da136def448&amp;chksm=fdd76ff5caa0e6e3f968367d69e3b06486173e572f0757359071bac97c49bc57d50ae7c6bc8a&amp;scene=27#wechat_redirect\",\"source_url\":\"\",\"cover\":\"http://mmbiz.qpic.cn/mmbiz_jpg/h9IkZnic79uOQTCtss2b1c6OMibnrvmGSKZNKMxbWCiaZYV4vS9icy8jk20OIeFvYEx4Pm5gDBb28wV1yrM9VF1VlA/0?wx_fmt=jpeg\",\"subtype\":9,\"is_multi\":0,\"multi_app_msg_item_list\":[],\"author\":\"PythonOffice\",\"copyright_stat\":11,\"duration\":0,\"del_flag\":1,\"item_show_type\":0,\"audio_fileid\":0,\"play_url\":\"\",\"malicious_title_reason_id\":0,\"malicious_content_type\":0}},{\"comm_msg_info\":{\"id\":1000000071,\"type\":49,\"datetime\":1593435620,\"fakeid\":\"3588873007\",\"status\":2,\"content\":\"\"},\"app_msg_ext_info\":{\"title\":\"用Tkinter制作Python程序的图形用户界面(GUI)，打包后比Qt5减少60M(77.5%)(实例63)\",\"digest\":\"打包后的文件小了%，以后还是抛弃PyQt5，用Tkinter制作图形用户界面吧。\",\"content\":\"\",\"fileid\":100000677,\"content_url\":\"http://mp.weixin.qq.com/s?__biz=MzU4ODg3MzAwNw==&amp;mid=2247484330&amp;idx=1&amp;sn=c9ba6dfb6d39c3d660b5128c11d4e695&amp;chksm=fdd76feacaa0e6fccc2462f242ca000e8d6a3f1907539e473b43cf04c3688f402a23a6d2b0ba&amp;scene=27#wechat_redirect\",\"source_url\":\"\",\"cover\":\"http://mmbiz.qpic.cn/mmbiz_jpg/h9IkZnic79uOL6azy7noRFOYu13ZTxtxaR0GxZvl9pL5tFGU88hibZWIxhV2AoicInvB823Y8h7oHUiag9TnkqE7hQ/0?wx_fmt=jpeg\",\"subtype\":9,\"is_multi\":0,\"multi_app_msg_item_list\":[],\"author\":\"PythonOffice\",\"copyright_stat\":11,\"duration\":0,\"del_flag\":1,\"item_show_type\":0,\"audio_fileid\":0,\"play_url\":\"\",\"malicious_title_reason_id\":0,\"malicious_content_type\":0}},{\"comm_msg_info\":{\"id\":1000000070,\"type\":49,\"datetime\":1593138600,\"fakeid\":\"3588873007\",\"status\":2,\"content\":\"\"},\"app_msg_ext_info\":{\"title\":\"将Python程序打包成安装文件分享给小伙伴(实例62)\",\"digest\":\"Python打包程序，分享给小伙伴~\",\"content\":\"\",\"fileid\":100000668,\"content_url\":\"http://mp.weixin.qq.com/s?__biz=MzU4ODg3MzAwNw==&amp;mid=2247484320&amp;idx=1&amp;sn=d6cdefbeacc30cd2e8dd96dc810fc74b&amp;chksm=fdd76fe0caa0e6f663d8f835f906c65bb73439b268cf1a035b420c619b5c77a9d61ca9f85780&amp;scene=27#wechat_redirect\",\"source_url\":\"\",\"cover\":\"http://mmbiz.qpic.cn/mmbiz_jpg/h9IkZnic79uPjhZLuay9hdx8QibzNg289CsmiaAnN7tVic584tCLz8ciaJicHO7jZWIXgJLwaYXGCHia6sJibk38r4aUHw/0?wx_fmt=jpeg\",\"subtype\":9,\"is_multi\":0,\"multi_app_msg_item_list\":[],\"author\":\"PythonOffice\",\"copyright_stat\":11,\"duration\":0,\"del_flag\":1,\"item_show_type\":0,\"audio_fileid\":0,\"play_url\":\"\",\"malicious_title_reason_id\":0,\"malicious_content_type\":0}},{\"comm_msg_info\":{\"id\":1000000069,\"type\":49,\"datetime\":1593054761,\"fakeid\":\"3588873007\",\"status\":2,\"content\":\"\"},\"app_msg_ext_info\":{\"title\":\"Python制作图形用户界面(GUI)让操作可视化(实例61)\",\"digest\":\"Python写操作界面，对人类很友好。\",\"content\":\"\",\"fileid\":100000653,\"content_url\":\"http://mp.weixin.qq.com/s?__biz=MzU4ODg3MzAwNw==&amp;mid=2247484305&amp;idx=1&amp;sn=f6ef070eb80b0a708d1b84337528ea6b&amp;chksm=fdd76fd1caa0e6c7cc5fb8c89086d061fa6dc64cf4a54d5d965050a56fc8208e2651fd7a48f9&amp;scene=27#wechat_redirect\",\"source_url\":\"\",\"cover\":\"http://mmbiz.qpic.cn/mmbiz_jpg/h9IkZnic79uMiaGWLPuianTSsj8z2x2ySknAJkoD8Oj3ibXtQ2u5swhBahGXaPYpicKpb4TELgBeQQkcFAoor1ZanPQ/0?wx_fmt=jpeg\",\"subtype\":9,\"is_multi\":0,\"multi_app_msg_item_list\":[],\"author\":\"PythonOffice\",\"copyright_stat\":11,\"duration\":0,\"del_flag\":1,\"item_show_type\":0,\"audio_fileid\":0,\"play_url\":\"\",\"malicious_title_reason_id\":0,\"malicious_content_type\":0}},{\"comm_msg_info\":{\"id\":1000000068,\"type\":49,\"datetime\":1592978400,\"fakeid\":\"3588873007\",\"status\":2,\"content\":\"\"},\"app_msg_ext_info\":{\"title\":\"Python汇总各单位Excel档领料记录并加总每日领用次数(实例60)\",\"digest\":\"Python处理 “xls” 文件中的数据。\",\"content\":\"\",\"fileid\":100000640,\"content_url\":\"http://mp.weixin.qq.com/s?__biz=MzU4ODg3MzAwNw==&amp;mid=2247484292&amp;idx=1&amp;sn=14f095a87dcedaafffce04308d300207&amp;chksm=fdd76fc4caa0e6d2b7157c62a91e86e4e5d06566519886a7a03ef6b33579af767809366e463c&amp;scene=27#wechat_redirect\",\"source_url\":\"\",\"cover\":\"http://mmbiz.qpic.cn/mmbiz_jpg/h9IkZnic79uPPYrzay1s3NmfpUI6qYIHibXhSI8BpI1ibWePt33ibVibIeMdib21ZymDJQn9xxpObWlGHX3dfToib2ia6Q/0?wx_fmt=jpeg\",\"subtype\":9,\"is_multi\":0,\"multi_app_msg_item_list\":[],\"author\":\"PythonOffice\",\"copyright_stat\":11,\"duration\":0,\"del_flag\":1,\"item_show_type\":0,\"audio_fileid\":0,\"play_url\":\"\",\"malicious_title_reason_id\":0,\"malicious_content_type\":0}}]}', 'next_offset': 10, 'video_count': 0, 'use_video_tab': 1, 'real_type': 0, 'home_page_list': []}\n"
     ]
    }
   ],
   "source": [
    "response_dict = json.loads(response.text)#将字符串转换成python能识别的格式\n",
    "print(response_dict)"
   ]
  },
  {
   "cell_type": "markdown",
   "metadata": {},
   "source": [
    "`response_dict`是一个字典，其中两个关键的键是` 'can_msg_continue'`和`'general_msg_list'`，它们分别含有“后面页是否还有文章”及“当前页的10篇文章的信息”。如果` 'can_msg_continue'`的值是1，则表示后面页还有文章，如果是0，则没有了。我们可以通过判断它的值来决定何时终止程序，避免浪费时间。\n",
    "<br/>\n",
    "<br/>当前页的10篇文章的信息位于`general_msg_list`键里面`list`键对应的值里面。要提取信息，需要先获取`general_msg_list`的值，存入`general_msg_list`变量。此时`general_msg_list`是一个字符串，还是需要用`json.loads()`转换，转换后存入`data_list`，打印显示一下。振作精神，离目标越来越近啦！"
   ]
  },
  {
   "cell_type": "code",
   "execution_count": 77,
   "metadata": {
    "scrolled": true
   },
   "outputs": [
    {
     "name": "stdout",
     "output_type": "stream",
     "text": [
      "[{'comm_msg_info': {'id': 1000000078, 'type': 49, 'datetime': 1594366155, 'fakeid': '3588873007', 'status': 2, 'content': ''}, 'app_msg_ext_info': {'title': 'Python保留格式复制多个excel工作表到汇总表并生成目录(实例69)', 'digest': '保留原格式复制excel表，就数它强~', 'content': '', 'fileid': 100000741, 'content_url': 'http://mp.weixin.qq.com/s?__biz=MzU4ODg3MzAwNw==&amp;mid=2247484393&amp;idx=1&amp;sn=bf00bf10cd550866cfd0e3b4ecdf3696&amp;chksm=fdd76fa9caa0e6bf065f7a1b2f5f48a98a1cd5979e09fb4713f56b20abc5283bd2c5f014fb6e&amp;scene=27#wechat_redirect', 'source_url': '', 'cover': 'http://mmbiz.qpic.cn/mmbiz_jpg/h9IkZnic79uO6fVCEFbuPnW4SzZjl25KuBiaaLd1HfTugZOibUCBibcUHicArcPBsGOwIWsCoYqtCHwL5YlQhzWCWWA/0?wx_fmt=jpeg', 'subtype': 9, 'is_multi': 0, 'multi_app_msg_item_list': [], 'author': 'PythonOffice', 'copyright_stat': 11, 'duration': 0, 'del_flag': 1, 'item_show_type': 0, 'audio_fileid': 0, 'play_url': '', 'malicious_title_reason_id': 0, 'malicious_content_type': 0}}, {'comm_msg_info': {'id': 1000000077, 'type': 49, 'datetime': 1594281308, 'fakeid': '3588873007', 'status': 2, 'content': ''}, 'app_msg_ext_info': {'title': 'Python批量新建文件夹并保存日志信息(实例68)', 'digest': '批量新建文件夹，数量还有记忆功能哦~', 'content': '', 'fileid': 100000733, 'content_url': 'http://mp.weixin.qq.com/s?__biz=MzU4ODg3MzAwNw==&amp;mid=2247484385&amp;idx=1&amp;sn=30e05ced3e5a850eb867b257c7b2325a&amp;chksm=fdd76fa1caa0e6b7065945315ac2179bd8f4bc1a8171221938b1d84373f78ccb16144e801239&amp;scene=27#wechat_redirect', 'source_url': '', 'cover': 'http://mmbiz.qpic.cn/mmbiz_jpg/h9IkZnic79uOT5n814RRmFpZmxC113v4g7Zff6QQXUgwqeKdBuVolln8OHnv2nSls1AJLrdO7zKSWXpiboh6o7UQ/0?wx_fmt=jpeg', 'subtype': 9, 'is_multi': 0, 'multi_app_msg_item_list': [], 'author': 'PythonOffice', 'copyright_stat': 11, 'duration': 0, 'del_flag': 1, 'item_show_type': 0, 'audio_fileid': 0, 'play_url': '', 'malicious_title_reason_id': 0, 'malicious_content_type': 0}}, {'comm_msg_info': {'id': 1000000076, 'type': 49, 'datetime': 1594194221, 'fakeid': '3588873007', 'status': 2, 'content': ''}, 'app_msg_ext_info': {'title': 'Python爬取博客的所有文章并存为带目录的word文档(实例67)', 'digest': 'Python一次爬取博客所有文章，更方便阅读。', 'content': '', 'fileid': 100000725, 'content_url': 'http://mp.weixin.qq.com/s?__biz=MzU4ODg3MzAwNw==&amp;mid=2247484377&amp;idx=1&amp;sn=736b58e978d71d497f4aefea9f668e79&amp;chksm=fdd76f99caa0e68ff857b1779dbe2e260e18482984a779f3d7d8f0298943e3aaea5a482f0645&amp;scene=27#wechat_redirect', 'source_url': '', 'cover': 'http://mmbiz.qpic.cn/mmbiz_jpg/h9IkZnic79uMExHcvyZ6YahJ5ZpicWHGic82tfrVenE6ZbCL8egZd6MFrASe8lcS4mhwuJY9CeN5ksarTqk9Vwp5Q/0?wx_fmt=jpeg', 'subtype': 9, 'is_multi': 0, 'multi_app_msg_item_list': [], 'author': 'PythonOffice', 'copyright_stat': 11, 'duration': 0, 'del_flag': 1, 'item_show_type': 0, 'audio_fileid': 0, 'play_url': '', 'malicious_title_reason_id': 0, 'malicious_content_type': 0}}, {'comm_msg_info': {'id': 1000000075, 'type': 49, 'datetime': 1593680100, 'fakeid': '3588873007', 'status': 2, 'content': ''}, 'app_msg_ext_info': {'title': 'Python一键更新Excel档“生产订单周报”的图表(实例66)', 'digest': 'Python一键更新Excel档周报的图表~', 'content': '', 'fileid': 0, 'content_url': 'http://mp.weixin.qq.com/s?__biz=MzU4ODg3MzAwNw==&amp;mid=2247484360&amp;idx=1&amp;sn=3c0d10d669cd30e3a1e4db94cc5bc94b&amp;chksm=fdd76f88caa0e69ec3230ed062664343d269a03746644956c67b28389f1e6e56a97e70af8293&amp;scene=27#wechat_redirect', 'source_url': '', 'cover': 'http://mmbiz.qpic.cn/mmbiz_jpg/h9IkZnic79uNDxtRc91KEZ4IXwHYYImomH0gFhz8kYBicv4iaAroW1QibAYHUavhGBF3zFRO67dIWxsib1I5sbIv40w/0?wx_fmt=jpeg', 'subtype': 9, 'is_multi': 0, 'multi_app_msg_item_list': [], 'author': 'PythonOffice', 'copyright_stat': 11, 'duration': 0, 'del_flag': 1, 'item_show_type': 0, 'audio_fileid': 0, 'play_url': '', 'malicious_title_reason_id': 0, 'malicious_content_type': 0}}, {'comm_msg_info': {'id': 1000000074, 'type': 49, 'datetime': 1593588600, 'fakeid': '3588873007', 'status': 2, 'content': ''}, 'app_msg_ext_info': {'title': 'Python识别加密的word文件并移动到单独文件夹(实例65)', 'digest': '如何用Python删选出加密的word文件？', 'content': '', 'fileid': 100000696, 'content_url': 'http://mp.weixin.qq.com/s?__biz=MzU4ODg3MzAwNw==&amp;mid=2247484348&amp;idx=1&amp;sn=45477db60221fe8ae283fb4267e450c9&amp;chksm=fdd76ffccaa0e6ea1c7a121a653e4ad46061fe22c284207deea60361a3c959cd204b6d812150&amp;scene=27#wechat_redirect', 'source_url': '', 'cover': 'http://mmbiz.qpic.cn/mmbiz_jpg/h9IkZnic79uNpw25re8fN1vIpWgrKqa2VYvFrOdGSIGkHE0gEmeof9paKRwFPPicS7fFnrjcBc51sWVtjzOuoH8w/0?wx_fmt=jpeg', 'subtype': 9, 'is_multi': 0, 'multi_app_msg_item_list': [], 'author': 'PythonOffice', 'copyright_stat': 11, 'duration': 0, 'del_flag': 1, 'item_show_type': 0, 'audio_fileid': 0, 'play_url': '', 'malicious_title_reason_id': 0, 'malicious_content_type': 0}}, {'comm_msg_info': {'id': 1000000073, 'type': 49, 'datetime': 1593518400, 'fakeid': '3588873007', 'status': 2, 'content': ''}, 'app_msg_ext_info': {'title': 'Python分块拆分txt文件中的数据(实例64)', 'digest': 'Python分块拆分txt文件中的数据。', 'content': '', 'fileid': 100000688, 'content_url': 'http://mp.weixin.qq.com/s?__biz=MzU4ODg3MzAwNw==&amp;mid=2247484341&amp;idx=1&amp;sn=c90045b2c68b4153a9735da136def448&amp;chksm=fdd76ff5caa0e6e3f968367d69e3b06486173e572f0757359071bac97c49bc57d50ae7c6bc8a&amp;scene=27#wechat_redirect', 'source_url': '', 'cover': 'http://mmbiz.qpic.cn/mmbiz_jpg/h9IkZnic79uOQTCtss2b1c6OMibnrvmGSKZNKMxbWCiaZYV4vS9icy8jk20OIeFvYEx4Pm5gDBb28wV1yrM9VF1VlA/0?wx_fmt=jpeg', 'subtype': 9, 'is_multi': 0, 'multi_app_msg_item_list': [], 'author': 'PythonOffice', 'copyright_stat': 11, 'duration': 0, 'del_flag': 1, 'item_show_type': 0, 'audio_fileid': 0, 'play_url': '', 'malicious_title_reason_id': 0, 'malicious_content_type': 0}}, {'comm_msg_info': {'id': 1000000071, 'type': 49, 'datetime': 1593435620, 'fakeid': '3588873007', 'status': 2, 'content': ''}, 'app_msg_ext_info': {'title': '用Tkinter制作Python程序的图形用户界面(GUI)，打包后比Qt5减少60M(77.5%)(实例63)', 'digest': '打包后的文件小了%，以后还是抛弃PyQt5，用Tkinter制作图形用户界面吧。', 'content': '', 'fileid': 100000677, 'content_url': 'http://mp.weixin.qq.com/s?__biz=MzU4ODg3MzAwNw==&amp;mid=2247484330&amp;idx=1&amp;sn=c9ba6dfb6d39c3d660b5128c11d4e695&amp;chksm=fdd76feacaa0e6fccc2462f242ca000e8d6a3f1907539e473b43cf04c3688f402a23a6d2b0ba&amp;scene=27#wechat_redirect', 'source_url': '', 'cover': 'http://mmbiz.qpic.cn/mmbiz_jpg/h9IkZnic79uOL6azy7noRFOYu13ZTxtxaR0GxZvl9pL5tFGU88hibZWIxhV2AoicInvB823Y8h7oHUiag9TnkqE7hQ/0?wx_fmt=jpeg', 'subtype': 9, 'is_multi': 0, 'multi_app_msg_item_list': [], 'author': 'PythonOffice', 'copyright_stat': 11, 'duration': 0, 'del_flag': 1, 'item_show_type': 0, 'audio_fileid': 0, 'play_url': '', 'malicious_title_reason_id': 0, 'malicious_content_type': 0}}, {'comm_msg_info': {'id': 1000000070, 'type': 49, 'datetime': 1593138600, 'fakeid': '3588873007', 'status': 2, 'content': ''}, 'app_msg_ext_info': {'title': '将Python程序打包成安装文件分享给小伙伴(实例62)', 'digest': 'Python打包程序，分享给小伙伴~', 'content': '', 'fileid': 100000668, 'content_url': 'http://mp.weixin.qq.com/s?__biz=MzU4ODg3MzAwNw==&amp;mid=2247484320&amp;idx=1&amp;sn=d6cdefbeacc30cd2e8dd96dc810fc74b&amp;chksm=fdd76fe0caa0e6f663d8f835f906c65bb73439b268cf1a035b420c619b5c77a9d61ca9f85780&amp;scene=27#wechat_redirect', 'source_url': '', 'cover': 'http://mmbiz.qpic.cn/mmbiz_jpg/h9IkZnic79uPjhZLuay9hdx8QibzNg289CsmiaAnN7tVic584tCLz8ciaJicHO7jZWIXgJLwaYXGCHia6sJibk38r4aUHw/0?wx_fmt=jpeg', 'subtype': 9, 'is_multi': 0, 'multi_app_msg_item_list': [], 'author': 'PythonOffice', 'copyright_stat': 11, 'duration': 0, 'del_flag': 1, 'item_show_type': 0, 'audio_fileid': 0, 'play_url': '', 'malicious_title_reason_id': 0, 'malicious_content_type': 0}}, {'comm_msg_info': {'id': 1000000069, 'type': 49, 'datetime': 1593054761, 'fakeid': '3588873007', 'status': 2, 'content': ''}, 'app_msg_ext_info': {'title': 'Python制作图形用户界面(GUI)让操作可视化(实例61)', 'digest': 'Python写操作界面，对人类很友好。', 'content': '', 'fileid': 100000653, 'content_url': 'http://mp.weixin.qq.com/s?__biz=MzU4ODg3MzAwNw==&amp;mid=2247484305&amp;idx=1&amp;sn=f6ef070eb80b0a708d1b84337528ea6b&amp;chksm=fdd76fd1caa0e6c7cc5fb8c89086d061fa6dc64cf4a54d5d965050a56fc8208e2651fd7a48f9&amp;scene=27#wechat_redirect', 'source_url': '', 'cover': 'http://mmbiz.qpic.cn/mmbiz_jpg/h9IkZnic79uMiaGWLPuianTSsj8z2x2ySknAJkoD8Oj3ibXtQ2u5swhBahGXaPYpicKpb4TELgBeQQkcFAoor1ZanPQ/0?wx_fmt=jpeg', 'subtype': 9, 'is_multi': 0, 'multi_app_msg_item_list': [], 'author': 'PythonOffice', 'copyright_stat': 11, 'duration': 0, 'del_flag': 1, 'item_show_type': 0, 'audio_fileid': 0, 'play_url': '', 'malicious_title_reason_id': 0, 'malicious_content_type': 0}}, {'comm_msg_info': {'id': 1000000068, 'type': 49, 'datetime': 1592978400, 'fakeid': '3588873007', 'status': 2, 'content': ''}, 'app_msg_ext_info': {'title': 'Python汇总各单位Excel档领料记录并加总每日领用次数(实例60)', 'digest': 'Python处理 “xls” 文件中的数据。', 'content': '', 'fileid': 100000640, 'content_url': 'http://mp.weixin.qq.com/s?__biz=MzU4ODg3MzAwNw==&amp;mid=2247484292&amp;idx=1&amp;sn=14f095a87dcedaafffce04308d300207&amp;chksm=fdd76fc4caa0e6d2b7157c62a91e86e4e5d06566519886a7a03ef6b33579af767809366e463c&amp;scene=27#wechat_redirect', 'source_url': '', 'cover': 'http://mmbiz.qpic.cn/mmbiz_jpg/h9IkZnic79uPPYrzay1s3NmfpUI6qYIHibXhSI8BpI1ibWePt33ibVibIeMdib21ZymDJQn9xxpObWlGHX3dfToib2ia6Q/0?wx_fmt=jpeg', 'subtype': 9, 'is_multi': 0, 'multi_app_msg_item_list': [], 'author': 'PythonOffice', 'copyright_stat': 11, 'duration': 0, 'del_flag': 1, 'item_show_type': 0, 'audio_fileid': 0, 'play_url': '', 'malicious_title_reason_id': 0, 'malicious_content_type': 0}}]\n"
     ]
    }
   ],
   "source": [
    "general_msg_list = response_dict['general_msg_list'] #此时是字符串\n",
    "data_list = json.loads(general_msg_list)['list'] #转换成python能够识别的格式，并取出文章链接的信息\n",
    "print(data_list)"
   ]
  },
  {
   "cell_type": "markdown",
   "metadata": {},
   "source": [
    "使用`data_list[0]`取第一个元素看一下，找到我们需要的信息，即时间（`datetime`），标题（`title`）和链接（`content_url`）。通过获取这些信息，就能为最后的下载做好准备了。"
   ]
  },
  {
   "cell_type": "code",
   "execution_count": 78,
   "metadata": {
    "scrolled": true
   },
   "outputs": [
    {
     "data": {
      "text/plain": [
       "{'comm_msg_info': {'id': 1000000078,\n",
       "  'type': 49,\n",
       "  'datetime': 1594366155,\n",
       "  'fakeid': '3588873007',\n",
       "  'status': 2,\n",
       "  'content': ''},\n",
       " 'app_msg_ext_info': {'title': 'Python保留格式复制多个excel工作表到汇总表并生成目录(实例69)',\n",
       "  'digest': '保留原格式复制excel表，就数它强~',\n",
       "  'content': '',\n",
       "  'fileid': 100000741,\n",
       "  'content_url': 'http://mp.weixin.qq.com/s?__biz=MzU4ODg3MzAwNw==&amp;mid=2247484393&amp;idx=1&amp;sn=bf00bf10cd550866cfd0e3b4ecdf3696&amp;chksm=fdd76fa9caa0e6bf065f7a1b2f5f48a98a1cd5979e09fb4713f56b20abc5283bd2c5f014fb6e&amp;scene=27#wechat_redirect',\n",
       "  'source_url': '',\n",
       "  'cover': 'http://mmbiz.qpic.cn/mmbiz_jpg/h9IkZnic79uO6fVCEFbuPnW4SzZjl25KuBiaaLd1HfTugZOibUCBibcUHicArcPBsGOwIWsCoYqtCHwL5YlQhzWCWWA/0?wx_fmt=jpeg',\n",
       "  'subtype': 9,\n",
       "  'is_multi': 0,\n",
       "  'multi_app_msg_item_list': [],\n",
       "  'author': 'PythonOffice',\n",
       "  'copyright_stat': 11,\n",
       "  'duration': 0,\n",
       "  'del_flag': 1,\n",
       "  'item_show_type': 0,\n",
       "  'audio_fileid': 0,\n",
       "  'play_url': '',\n",
       "  'malicious_title_reason_id': 0,\n",
       "  'malicious_content_type': 0}}"
      ]
     },
     "execution_count": 78,
     "metadata": {},
     "output_type": "execute_result"
    }
   ],
   "source": [
    "data_list[0]"
   ]
  },
  {
   "cell_type": "markdown",
   "metadata": {},
   "source": [
    "单页的内容搞定后，就可以获取所有文章链接的信息了。定义一个函数`article_links`来获取单页的信息，参数`index`用于控制页数。由于部分公众号文章是“消息”，因此`data`里的数据缺少我们需要的字段，需要跳过，所以加入了`try - except`语句，不然程序会崩溃。最后将单页的10篇文章信息存入列表`links`，并返回。同时返回的还有`can_msg_continue`，它用于判断当前页是否是最后一页。"
   ]
  },
  {
   "cell_type": "code",
   "execution_count": 87,
   "metadata": {},
   "outputs": [],
   "source": [
    "import requests\n",
    "import json\n",
    "import time\n",
    "def article_links(index):\n",
    "    '''用于将单个页面的文章链接，index用于控制页数'''\n",
    "    links = []\n",
    "    url = \"https://mp.weixin.qq.com/mp/profile_ext\"\n",
    "    headers = {\"User-Agent\": \"Mozilla/5.0 (Windows NT 10.0; Win64; x64) AppleWebKit/537.36 (KHTML, like Gecko) Chrome/83.0.4103.116 Safari/537.36 \"}\n",
    "    proxies = {'https': None,'http': None} #设定代理IP，包含'http'和'https'\n",
    "    uin = 'ODQ5NDE0MTMw'\n",
    "    # Key会随时间变化，需要获取最新的key，不然抓取不到数据\n",
    "    key = '3aa16237e25e21dabcda4cd2ced4c12ffa2a3653c9c8c5e8a397118866c992ff8c540f35d683436a36bb7fa70ef2e204b8428e96e40fd51b388ceeefb554ea0db4d8cecc43d2b9e2c2620f6f029401aa'\n",
    "    # 参数\n",
    "    params = {\n",
    "        'action': 'getmsg',\n",
    "        '__biz': 'MzU4ODg3MzAwNw==', #每个公众号的不一样，从Fiddler复制过来\n",
    "        'f': 'json',\n",
    "        'offset': index * 10, #控制翻页，offset是从0开始的10的倍数\n",
    "        'count': '10',\n",
    "        'is_ok': '1',\n",
    "        'scene': '124',\n",
    "        'uin': uin, #每个公众号的不一样，从Fiddler复制过来\n",
    "        'key': key, #每个公众号的不一样，从Fiddler复制过来\n",
    "        'wxtoken': '',\n",
    "        'x5': '0'}\n",
    "    response = requests.get(url, headers=headers, params=params, proxies=proxies)\n",
    "    response_dict = json.loads(response.text)\n",
    "    can_msg_continue = response_dict.get('can_msg_continue') #用于判断是否是最后一页,若为0,则表示最后一页\n",
    "    general_msg_list = response_dict.get('general_msg_list')\n",
    "    data_list = json.loads(general_msg_list)['list']\n",
    "    for data in data_list:\n",
    "        #部分公众号文章是“消息”，因此data里的数据缺少我们需要的字段，需要跳过\n",
    "        try:\n",
    "            title = data['app_msg_ext_info']['title'] #文章标题\n",
    "            datetime = data['comm_msg_info']['datetime'] #获取时间戳\n",
    "            date = time.strftime('%Y-%m-%d', time.localtime(datetime))#将时间戳转换为本地时间\n",
    "            url = data['app_msg_ext_info']['content_url'] #文章链接\n",
    "            info = { \"url\":url,\n",
    "                    \"title\":title,\n",
    "                    \"date\":date}\n",
    "            links.append(info)\n",
    "        except:\n",
    "            pass\n",
    "    return links,can_msg_continue"
   ]
  },
  {
   "cell_type": "markdown",
   "metadata": {},
   "source": [
    "然后就可以调用`article_links`函数来获取公号的所有文章链接信息了。在一个整数范围内用`for`循环遍历。此处设定为100，其中一个数对应的是1页，即10篇文章，那100就对应1000篇文章。这个要根据公号的实际文章数来设定，只要大于文章总数即可。然后将获取的链接信息通过`extend`存入列表`all_links`（如果用`append`会造成嵌套列表，会增加提取数据的难度）。再判断一下当前页是否是最后一页，如果是，就表示已经爬完所有文章信息了，通过`break`中断循环，避免浪费时间。最后查看一下前两篇文章的信息以及文章个数是否与公号总文章数吻合。"
   ]
  },
  {
   "cell_type": "code",
   "execution_count": 88,
   "metadata": {
    "scrolled": true
   },
   "outputs": [
    {
     "data": {
      "text/plain": [
       "[{'url': 'http://mp.weixin.qq.com/s?__biz=MzU4ODg3MzAwNw==&amp;mid=2247484393&amp;idx=1&amp;sn=bf00bf10cd550866cfd0e3b4ecdf3696&amp;chksm=fdd76fa9caa0e6bf065f7a1b2f5f48a98a1cd5979e09fb4713f56b20abc5283bd2c5f014fb6e&amp;scene=27#wechat_redirect',\n",
       "  'title': 'Python保留格式复制多个excel工作表到汇总表并生成目录(实例69)',\n",
       "  'date': '2020-07-10'},\n",
       " {'url': 'http://mp.weixin.qq.com/s?__biz=MzU4ODg3MzAwNw==&amp;mid=2247484385&amp;idx=1&amp;sn=30e05ced3e5a850eb867b257c7b2325a&amp;chksm=fdd76fa1caa0e6b7065945315ac2179bd8f4bc1a8171221938b1d84373f78ccb16144e801239&amp;scene=27#wechat_redirect',\n",
       "  'title': 'Python批量新建文件夹并保存日志信息(实例68)',\n",
       "  'date': '2020-07-09'}]"
      ]
     },
     "execution_count": 88,
     "metadata": {},
     "output_type": "execute_result"
    }
   ],
   "source": [
    "all_links = []\n",
    "for i in range(100): #根据实际而定，因为每页10篇文章，100页对应1000篇文章\n",
    "    all_links.extend(article_links(i)[0])\n",
    "    if article_links(i)[1] == 0:\n",
    "        break\n",
    "all_links[:2]"
   ]
  },
  {
   "cell_type": "code",
   "execution_count": 89,
   "metadata": {},
   "outputs": [
    {
     "data": {
      "text/plain": [
       "74"
      ]
     },
     "execution_count": 89,
     "metadata": {},
     "output_type": "execute_result"
    }
   ],
   "source": [
    "len(all_links)"
   ]
  },
  {
   "cell_type": "markdown",
   "metadata": {},
   "source": [
    "链接获取完后，就可以批量下载成PDF文件了。此处用到`pdfkit`工具，需要自行通过`pip install pdfkit`安装。`pdfkit`只是一个`python`接口，其背后真正支持的程序是`wkhtmltopdf.exe`，所以需要安装`wkhtmltopdf.exe`。这个文件已上传网盘，可到公众号输入“源文件”下载。这个支持Windows XP/2003以后的系统。将`“wkhtmltox.rar”`压缩包解压，并记录其中的`wkhtmltopdf.exe`文件的路径，待会设置配置参数要用到。比如，本文将其放在`D:\\Program Files (x86)`目录下。\n",
    "![](images\\wkhtmltox.PNG)"
   ]
  },
  {
   "cell_type": "markdown",
   "metadata": {},
   "source": [
    "如果直接使用`pdfkit.from_url`转存PDF，会导致PDF中无法正常显示公号文章里的图片。因此还要用到`wechatsogou`库来处理一下。它是基于搜狗微信搜索的公号爬虫接口，也可以用它来爬公号文章。小编是怎么知道的呢？其实先前也不知道，遇到了这个问题，度娘出来的。反正能解决问题，使用别人造好的轮子，没毛病。于是乎，一顿凶猛的操作，`pip install wechatsogou`安装完毕，无耻地复制粘贴别人的代码。\n",
    "<br/>\n",
    "<br/>定义函数`link_to_pdf`，三个参数（`url,title,date`）都来自以上获取到的信息。然后调用`WechatSogouAPI`接口程序，请求链接，将获取到的信息转成`html`格式。然后将标题和文章内容放入写好的`html`中处理一下。指定好`wkhtmltopdf`可执行程序路径，配置一下`pdfkit`的参数，然后使用`pdfkit.from_string`方法，传入`html`，输出文件的文件名，以及配置信息，开始下载。"
   ]
  },
  {
   "cell_type": "code",
   "execution_count": 67,
   "metadata": {
    "scrolled": true
   },
   "outputs": [],
   "source": [
    "import pdfkit\n",
    "import wechatsogou\n",
    "def link_to_pdf(url,title,date):\n",
    "    ws_api = wechatsogou.WechatSogouAPI(captcha_break_time=3) #调用接口\n",
    "    content_info = ws_api.get_article_content(url) #请求链接\n",
    "    content = content_info['content_html'] #转换为html格式\n",
    "    #将标题和文章内容放入如下html中处理一下\n",
    "    html = f'''\n",
    "        <!DOCTYPE html>\n",
    "        <html lang=\"en\">\n",
    "        <head>\n",
    "            <meta charset=\"UTF-8\">\n",
    "            <title>{title}</title>\n",
    "        </head>\n",
    "        <body>\n",
    "        <h2 style=\"text-align: center;font-weight: 400;\">{title}</h2>\n",
    "        {content}\n",
    "        </body>\n",
    "        </html>'''\n",
    "\n",
    "    path_wkthmltopdf = r\"D:\\Program Files (x86)\\wkhtmltox\\bin\\wkhtmltopdf.exe\" #wkhtmltopdf可执行程序路径\n",
    "    config = pdfkit.configuration(wkhtmltopdf = path_wkthmltopdf) #配置pdfkit\n",
    "    pdfkit.from_string(html,f\"{title} {date}.pdf\",configuration=config) #转PDF，并按设定好的命名文件\n",
    "    print(f\"{title}.pdf 已下载\")"
   ]
  },
  {
   "cell_type": "markdown",
   "metadata": {},
   "source": [
    "在运行程序前，要把抓包软件`Fiddler`关闭，不然会报错“SSLError: HTTPSConnectionPool(host='mp.weixin.qq.com', port=443)”。使用`for`循环，遍历列表`all_links`，调用函数`link_to_pdf`开始工作。"
   ]
  },
  {
   "cell_type": "code",
   "execution_count": 66,
   "metadata": {},
   "outputs": [
    {
     "name": "stdout",
     "output_type": "stream",
     "text": [
      "Loading pages (1/6)\n",
      "Counting pages (2/6)                                               \n",
      "Resolving links (4/6)                                                       \n",
      "Loading headers and footers (5/6)                                           \n",
      "Printing pages (6/6)\n",
      "Done                                                                      \n",
      "Python保留格式复制多个excel工作表到汇总表并生成目录(实例69).pdf 已下载\n",
      "Loading pages (1/6)\n",
      "Counting pages (2/6)                                               \n",
      "Resolving links (4/6)                                                       \n",
      "Loading headers and footers (5/6)                                           \n",
      "Printing pages (6/6)\n",
      "Done                                                                      \n",
      "Python批量新建文件夹并保存日志信息(实例68).pdf 已下载\n",
      "Loading pages (1/6)\n",
      "Counting pages (2/6)                                               \n",
      "Resolving links (4/6)                                                       \n",
      "Loading headers and footers (5/6)                                           \n",
      "Printing pages (6/6)\n",
      "Done                                                                        \n",
      "Python爬取博客的所有文章并存为带目录的word文档(实例67).pdf 已下载\n",
      "Loading pages (1/6)\n",
      "Counting pages (2/6)                                               \n",
      "Resolving links (4/6)                                                       \n",
      "Loading headers and footers (5/6)                                           \n",
      "Printing pages (6/6)\n",
      "Done                                                                      \n",
      "Python一键更新Excel档“生产订单周报”的图表(实例66).pdf 已下载\n",
      "Loading pages (1/6)\n",
      "Counting pages (2/6)                                               \n",
      "Resolving links (4/6)                                                       \n",
      "Loading headers and footers (5/6)                                           \n",
      "Printing pages (6/6)\n",
      "Done                                                                      \n",
      "Python识别加密的word文件并移动到单独文件夹(实例65).pdf 已下载\n",
      "Loading pages (1/6)\n",
      "Counting pages (2/6)                                               \n",
      "Resolving links (4/6)                                                       \n",
      "Loading headers and footers (5/6)                                           \n",
      "Printing pages (6/6)\n",
      "Done                                                                      \n",
      "Python分块拆分txt文件中的数据(实例64).pdf 已下载\n",
      "Loading pages (1/6)\n",
      "Counting pages (2/6)                                               \n",
      "Resolving links (4/6)                                                       \n",
      "Loading headers and footers (5/6)                                           \n",
      "Printing pages (6/6)\n",
      "Done                                                                      \n",
      "用Tkinter制作Python程序的图形用户界面(GUI)，打包后比Qt5减少60M(77.5%)(实例63).pdf 已下载\n",
      "Loading pages (1/6)\n",
      "Counting pages (2/6)                                               \n",
      "Resolving links (4/6)                                                       \n",
      "Loading headers and footers (5/6)                                           \n",
      "Printing pages (6/6)\n",
      "Done                                                                      \n",
      "将Python程序打包成安装文件分享给小伙伴(实例62).pdf 已下载\n",
      "Loading pages (1/6)\n",
      "Counting pages (2/6)                                               \n",
      "Resolving links (4/6)                                                       \n",
      "Loading headers and footers (5/6)                                           \n",
      "Printing pages (6/6)\n",
      "Done                                                                      \n",
      "Python制作图形用户界面(GUI)让操作可视化(实例61).pdf 已下载\n",
      "Loading pages (1/6)\n",
      "Counting pages (2/6)                                               \n",
      "Resolving links (4/6)                                                       \n",
      "Loading headers and footers (5/6)                                           \n",
      "Printing pages (6/6)\n",
      "Done                                                                      \n",
      "Python汇总各单位Excel档领料记录并加总每日领用次数(实例60).pdf 已下载\n",
      "Loading pages (1/6)\n",
      "Counting pages (2/6)                                               \n",
      "Resolving links (4/6)                                                       \n",
      "Loading headers and footers (5/6)                                           \n",
      "Printing pages (6/6)\n",
      "Done                                                                      \n",
      "Python检查word文件中的特殊“标记”词是否与文件名中的一致(实例59).pdf 已下载\n",
      "Loading pages (1/6)\n",
      "Counting pages (2/6)                                               \n",
      "Resolving links (4/6)                                                       \n",
      "Loading headers and footers (5/6)                                           \n",
      "Printing pages (6/6)\n",
      "Done                                                                      \n",
      "Python爬虫~已爬取目标网站所有文章，后续如何只获取新文章(实例58).pdf 已下载\n",
      "Loading pages (1/6)\n",
      "Counting pages (2/6)                                               \n",
      "Resolving links (4/6)                                                       \n",
      "Loading headers and footers (5/6)                                           \n",
      "Printing pages (6/6)\n",
      "Done                                                                        \n",
      "Python爬虫爬取会计师协会网站的指定文章(实例57).pdf 已下载\n",
      "Loading pages (1/6)\n",
      "Counting pages (2/6)                                               \n",
      "Resolving links (4/6)                                                       \n",
      "Loading headers and footers (5/6)                                           \n",
      "Printing pages (6/6)\n",
      "Done                                                                      \n",
      "Python从多路径多Excel表中获取数据并存入新表(实例56).pdf 已下载\n",
      "Loading pages (1/6)\n",
      "Counting pages (2/6)                                               \n",
      "Resolving links (4/6)                                                       \n",
      "Loading headers and footers (5/6)                                           \n",
      "Printing pages (6/6)\n",
      "Done                                                                      \n",
      "看你怎么作弊抄答案？Python出题，每个学生的都不一样(实例55).pdf 已下载\n",
      "Loading pages (1/6)\n",
      "Counting pages (2/6)                                               \n",
      "Resolving links (4/6)                                                       \n",
      "Loading headers and footers (5/6)                                           \n",
      "Printing pages (6/6)\n",
      "Done                                                                      \n",
      "Python指挥打印机批量打印文件(实例54).pdf 已下载\n",
      "Loading pages (1/6)\n",
      "Counting pages (2/6)                                               \n",
      "Resolving links (4/6)                                                       \n",
      "Loading headers and footers (5/6)                                           \n",
      "Printing pages (6/6)\n",
      "Done                                                                      \n",
      "Python从原Excel表中抽出数据存入同一文件的新的Sheet(实例53).pdf 已下载\n",
      "Loading pages (1/6)\n",
      "Counting pages (2/6)                                               \n",
      "Resolving links (4/6)                                                       \n",
      "Loading headers and footers (5/6)                                           \n",
      "Printing pages (6/6)\n",
      "Done                                                                      \n",
      "时隔1年半，Python欢迎度再增5%.pdf 已下载\n",
      "Loading pages (1/6)\n",
      "Counting pages (2/6)                                               \n",
      "Resolving links (4/6)                                                       \n",
      "Loading headers and footers (5/6)                                           \n",
      "Printing pages (6/6)\n",
      "Done                                                                      \n",
      "Pandas提取指定数据并保存在原Excel工作簿中(实例52).pdf 已下载\n",
      "Loading pages (1/6)\n",
      "Counting pages (2/6)                                               \n",
      "Resolving links (4/6)                                                       \n",
      "Loading headers and footers (5/6)                                           \n",
      "Printing pages (6/6)\n",
      "Done                                                                      \n",
      "5行代码，Python给孩子出数学练习题(实例51).pdf 已下载\n"
     ]
    },
    {
     "ename": "KeyboardInterrupt",
     "evalue": "",
     "output_type": "error",
     "traceback": [
      "\u001b[1;31m---------------------------------------------------------------------------\u001b[0m",
      "\u001b[1;31mKeyboardInterrupt\u001b[0m                         Traceback (most recent call last)",
      "\u001b[1;32m<ipython-input-66-6d222a77d441>\u001b[0m in \u001b[0;36m<module>\u001b[1;34m\u001b[0m\n\u001b[0;32m      3\u001b[0m     \u001b[0mtitle\u001b[0m \u001b[1;33m=\u001b[0m \u001b[0mlink\u001b[0m\u001b[1;33m[\u001b[0m\u001b[1;34m'title'\u001b[0m\u001b[1;33m]\u001b[0m\u001b[1;33m\u001b[0m\u001b[1;33m\u001b[0m\u001b[0m\n\u001b[0;32m      4\u001b[0m     \u001b[0mdate\u001b[0m \u001b[1;33m=\u001b[0m \u001b[0mlink\u001b[0m\u001b[1;33m[\u001b[0m\u001b[1;34m'date'\u001b[0m\u001b[1;33m]\u001b[0m\u001b[1;33m\u001b[0m\u001b[1;33m\u001b[0m\u001b[0m\n\u001b[1;32m----> 5\u001b[1;33m     \u001b[0mlink_to_pdf\u001b[0m\u001b[1;33m(\u001b[0m\u001b[0murl\u001b[0m\u001b[1;33m,\u001b[0m\u001b[0mtitle\u001b[0m\u001b[1;33m,\u001b[0m\u001b[0mdate\u001b[0m\u001b[1;33m)\u001b[0m\u001b[1;33m\u001b[0m\u001b[1;33m\u001b[0m\u001b[0m\n\u001b[0m",
      "\u001b[1;32m<ipython-input-61-4376710f2a5f>\u001b[0m in \u001b[0;36mlink_to_pdf\u001b[1;34m(url, title, date)\u001b[0m\n\u001b[0;32m     20\u001b[0m     \u001b[0mpath_wkthmltopdf\u001b[0m \u001b[1;33m=\u001b[0m \u001b[1;34mr\"D:\\Program Files (x86)\\wkhtmltox\\bin\\wkhtmltopdf.exe\"\u001b[0m\u001b[1;33m\u001b[0m\u001b[1;33m\u001b[0m\u001b[0m\n\u001b[0;32m     21\u001b[0m     \u001b[0mconfig\u001b[0m \u001b[1;33m=\u001b[0m \u001b[0mpdfkit\u001b[0m\u001b[1;33m.\u001b[0m\u001b[0mconfiguration\u001b[0m\u001b[1;33m(\u001b[0m\u001b[0mwkhtmltopdf\u001b[0m \u001b[1;33m=\u001b[0m \u001b[0mpath_wkthmltopdf\u001b[0m\u001b[1;33m)\u001b[0m\u001b[1;33m\u001b[0m\u001b[1;33m\u001b[0m\u001b[0m\n\u001b[1;32m---> 22\u001b[1;33m     \u001b[0mpdfkit\u001b[0m\u001b[1;33m.\u001b[0m\u001b[0mfrom_string\u001b[0m\u001b[1;33m(\u001b[0m\u001b[0mhtml\u001b[0m\u001b[1;33m,\u001b[0m\u001b[1;34mf\"{title}.pdf\"\u001b[0m\u001b[1;33m,\u001b[0m\u001b[0mconfiguration\u001b[0m\u001b[1;33m=\u001b[0m\u001b[0mconfig\u001b[0m\u001b[1;33m)\u001b[0m\u001b[1;33m\u001b[0m\u001b[1;33m\u001b[0m\u001b[0m\n\u001b[0m\u001b[0;32m     23\u001b[0m     \u001b[0mprint\u001b[0m\u001b[1;33m(\u001b[0m\u001b[1;34mf\"{title}.pdf 已下载\"\u001b[0m\u001b[1;33m)\u001b[0m\u001b[1;33m\u001b[0m\u001b[1;33m\u001b[0m\u001b[0m\n",
      "\u001b[1;32m~\\AppData\\Local\\Continuum\\anaconda3\\lib\\site-packages\\pdfkit\\api.py\u001b[0m in \u001b[0;36mfrom_string\u001b[1;34m(input, output_path, options, toc, cover, css, configuration, cover_first)\u001b[0m\n\u001b[0;32m     70\u001b[0m                configuration=configuration, cover_first=cover_first)\n\u001b[0;32m     71\u001b[0m \u001b[1;33m\u001b[0m\u001b[0m\n\u001b[1;32m---> 72\u001b[1;33m     \u001b[1;32mreturn\u001b[0m \u001b[0mr\u001b[0m\u001b[1;33m.\u001b[0m\u001b[0mto_pdf\u001b[0m\u001b[1;33m(\u001b[0m\u001b[0moutput_path\u001b[0m\u001b[1;33m)\u001b[0m\u001b[1;33m\u001b[0m\u001b[1;33m\u001b[0m\u001b[0m\n\u001b[0m\u001b[0;32m     73\u001b[0m \u001b[1;33m\u001b[0m\u001b[0m\n\u001b[0;32m     74\u001b[0m \u001b[1;33m\u001b[0m\u001b[0m\n",
      "\u001b[1;32m~\\AppData\\Local\\Continuum\\anaconda3\\lib\\site-packages\\pdfkit\\pdfkit.py\u001b[0m in \u001b[0;36mto_pdf\u001b[1;34m(self, path)\u001b[0m\n\u001b[0;32m    139\u001b[0m         \u001b[1;32melse\u001b[0m\u001b[1;33m:\u001b[0m\u001b[1;33m\u001b[0m\u001b[1;33m\u001b[0m\u001b[0m\n\u001b[0;32m    140\u001b[0m             \u001b[0minput\u001b[0m \u001b[1;33m=\u001b[0m \u001b[1;32mNone\u001b[0m\u001b[1;33m\u001b[0m\u001b[1;33m\u001b[0m\u001b[0m\n\u001b[1;32m--> 141\u001b[1;33m         \u001b[0mstdout\u001b[0m\u001b[1;33m,\u001b[0m \u001b[0mstderr\u001b[0m \u001b[1;33m=\u001b[0m \u001b[0mresult\u001b[0m\u001b[1;33m.\u001b[0m\u001b[0mcommunicate\u001b[0m\u001b[1;33m(\u001b[0m\u001b[0minput\u001b[0m\u001b[1;33m=\u001b[0m\u001b[0minput\u001b[0m\u001b[1;33m)\u001b[0m\u001b[1;33m\u001b[0m\u001b[1;33m\u001b[0m\u001b[0m\n\u001b[0m\u001b[0;32m    142\u001b[0m         \u001b[0mstderr\u001b[0m \u001b[1;33m=\u001b[0m \u001b[0mstderr\u001b[0m \u001b[1;32mor\u001b[0m \u001b[0mstdout\u001b[0m\u001b[1;33m\u001b[0m\u001b[1;33m\u001b[0m\u001b[0m\n\u001b[0;32m    143\u001b[0m         \u001b[1;32mtry\u001b[0m\u001b[1;33m:\u001b[0m\u001b[1;33m\u001b[0m\u001b[1;33m\u001b[0m\u001b[0m\n",
      "\u001b[1;32m~\\AppData\\Local\\Continuum\\anaconda3\\lib\\subprocess.py\u001b[0m in \u001b[0;36mcommunicate\u001b[1;34m(self, input, timeout)\u001b[0m\n\u001b[0;32m    931\u001b[0m \u001b[1;33m\u001b[0m\u001b[0m\n\u001b[0;32m    932\u001b[0m             \u001b[1;32mtry\u001b[0m\u001b[1;33m:\u001b[0m\u001b[1;33m\u001b[0m\u001b[1;33m\u001b[0m\u001b[0m\n\u001b[1;32m--> 933\u001b[1;33m                 \u001b[0mstdout\u001b[0m\u001b[1;33m,\u001b[0m \u001b[0mstderr\u001b[0m \u001b[1;33m=\u001b[0m \u001b[0mself\u001b[0m\u001b[1;33m.\u001b[0m\u001b[0m_communicate\u001b[0m\u001b[1;33m(\u001b[0m\u001b[0minput\u001b[0m\u001b[1;33m,\u001b[0m \u001b[0mendtime\u001b[0m\u001b[1;33m,\u001b[0m \u001b[0mtimeout\u001b[0m\u001b[1;33m)\u001b[0m\u001b[1;33m\u001b[0m\u001b[1;33m\u001b[0m\u001b[0m\n\u001b[0m\u001b[0;32m    934\u001b[0m             \u001b[1;32mexcept\u001b[0m \u001b[0mKeyboardInterrupt\u001b[0m\u001b[1;33m:\u001b[0m\u001b[1;33m\u001b[0m\u001b[1;33m\u001b[0m\u001b[0m\n\u001b[0;32m    935\u001b[0m                 \u001b[1;31m# https://bugs.python.org/issue25942\u001b[0m\u001b[1;33m\u001b[0m\u001b[1;33m\u001b[0m\u001b[1;33m\u001b[0m\u001b[0m\n",
      "\u001b[1;32m~\\AppData\\Local\\Continuum\\anaconda3\\lib\\subprocess.py\u001b[0m in \u001b[0;36m_communicate\u001b[1;34m(self, input, endtime, orig_timeout)\u001b[0m\n\u001b[0;32m   1259\u001b[0m             \u001b[1;31m# calls communicate again.\u001b[0m\u001b[1;33m\u001b[0m\u001b[1;33m\u001b[0m\u001b[1;33m\u001b[0m\u001b[0m\n\u001b[0;32m   1260\u001b[0m             \u001b[1;32mif\u001b[0m \u001b[0mself\u001b[0m\u001b[1;33m.\u001b[0m\u001b[0mstdout\u001b[0m \u001b[1;32mis\u001b[0m \u001b[1;32mnot\u001b[0m \u001b[1;32mNone\u001b[0m\u001b[1;33m:\u001b[0m\u001b[1;33m\u001b[0m\u001b[1;33m\u001b[0m\u001b[0m\n\u001b[1;32m-> 1261\u001b[1;33m                 \u001b[0mself\u001b[0m\u001b[1;33m.\u001b[0m\u001b[0mstdout_thread\u001b[0m\u001b[1;33m.\u001b[0m\u001b[0mjoin\u001b[0m\u001b[1;33m(\u001b[0m\u001b[0mself\u001b[0m\u001b[1;33m.\u001b[0m\u001b[0m_remaining_time\u001b[0m\u001b[1;33m(\u001b[0m\u001b[0mendtime\u001b[0m\u001b[1;33m)\u001b[0m\u001b[1;33m)\u001b[0m\u001b[1;33m\u001b[0m\u001b[1;33m\u001b[0m\u001b[0m\n\u001b[0m\u001b[0;32m   1262\u001b[0m                 \u001b[1;32mif\u001b[0m \u001b[0mself\u001b[0m\u001b[1;33m.\u001b[0m\u001b[0mstdout_thread\u001b[0m\u001b[1;33m.\u001b[0m\u001b[0mis_alive\u001b[0m\u001b[1;33m(\u001b[0m\u001b[1;33m)\u001b[0m\u001b[1;33m:\u001b[0m\u001b[1;33m\u001b[0m\u001b[1;33m\u001b[0m\u001b[0m\n\u001b[0;32m   1263\u001b[0m                     \u001b[1;32mraise\u001b[0m \u001b[0mTimeoutExpired\u001b[0m\u001b[1;33m(\u001b[0m\u001b[0mself\u001b[0m\u001b[1;33m.\u001b[0m\u001b[0margs\u001b[0m\u001b[1;33m,\u001b[0m \u001b[0morig_timeout\u001b[0m\u001b[1;33m)\u001b[0m\u001b[1;33m\u001b[0m\u001b[1;33m\u001b[0m\u001b[0m\n",
      "\u001b[1;32m~\\AppData\\Local\\Continuum\\anaconda3\\lib\\threading.py\u001b[0m in \u001b[0;36mjoin\u001b[1;34m(self, timeout)\u001b[0m\n\u001b[0;32m   1030\u001b[0m \u001b[1;33m\u001b[0m\u001b[0m\n\u001b[0;32m   1031\u001b[0m         \u001b[1;32mif\u001b[0m \u001b[0mtimeout\u001b[0m \u001b[1;32mis\u001b[0m \u001b[1;32mNone\u001b[0m\u001b[1;33m:\u001b[0m\u001b[1;33m\u001b[0m\u001b[1;33m\u001b[0m\u001b[0m\n\u001b[1;32m-> 1032\u001b[1;33m             \u001b[0mself\u001b[0m\u001b[1;33m.\u001b[0m\u001b[0m_wait_for_tstate_lock\u001b[0m\u001b[1;33m(\u001b[0m\u001b[1;33m)\u001b[0m\u001b[1;33m\u001b[0m\u001b[1;33m\u001b[0m\u001b[0m\n\u001b[0m\u001b[0;32m   1033\u001b[0m         \u001b[1;32melse\u001b[0m\u001b[1;33m:\u001b[0m\u001b[1;33m\u001b[0m\u001b[1;33m\u001b[0m\u001b[0m\n\u001b[0;32m   1034\u001b[0m             \u001b[1;31m# the behavior of a negative timeout isn't documented, but\u001b[0m\u001b[1;33m\u001b[0m\u001b[1;33m\u001b[0m\u001b[1;33m\u001b[0m\u001b[0m\n",
      "\u001b[1;32m~\\AppData\\Local\\Continuum\\anaconda3\\lib\\threading.py\u001b[0m in \u001b[0;36m_wait_for_tstate_lock\u001b[1;34m(self, block, timeout)\u001b[0m\n\u001b[0;32m   1046\u001b[0m         \u001b[1;32mif\u001b[0m \u001b[0mlock\u001b[0m \u001b[1;32mis\u001b[0m \u001b[1;32mNone\u001b[0m\u001b[1;33m:\u001b[0m  \u001b[1;31m# already determined that the C code is done\u001b[0m\u001b[1;33m\u001b[0m\u001b[1;33m\u001b[0m\u001b[0m\n\u001b[0;32m   1047\u001b[0m             \u001b[1;32massert\u001b[0m \u001b[0mself\u001b[0m\u001b[1;33m.\u001b[0m\u001b[0m_is_stopped\u001b[0m\u001b[1;33m\u001b[0m\u001b[1;33m\u001b[0m\u001b[0m\n\u001b[1;32m-> 1048\u001b[1;33m         \u001b[1;32melif\u001b[0m \u001b[0mlock\u001b[0m\u001b[1;33m.\u001b[0m\u001b[0macquire\u001b[0m\u001b[1;33m(\u001b[0m\u001b[0mblock\u001b[0m\u001b[1;33m,\u001b[0m \u001b[0mtimeout\u001b[0m\u001b[1;33m)\u001b[0m\u001b[1;33m:\u001b[0m\u001b[1;33m\u001b[0m\u001b[1;33m\u001b[0m\u001b[0m\n\u001b[0m\u001b[0;32m   1049\u001b[0m             \u001b[0mlock\u001b[0m\u001b[1;33m.\u001b[0m\u001b[0mrelease\u001b[0m\u001b[1;33m(\u001b[0m\u001b[1;33m)\u001b[0m\u001b[1;33m\u001b[0m\u001b[1;33m\u001b[0m\u001b[0m\n\u001b[0;32m   1050\u001b[0m             \u001b[0mself\u001b[0m\u001b[1;33m.\u001b[0m\u001b[0m_stop\u001b[0m\u001b[1;33m(\u001b[0m\u001b[1;33m)\u001b[0m\u001b[1;33m\u001b[0m\u001b[1;33m\u001b[0m\u001b[0m\n",
      "\u001b[1;31mKeyboardInterrupt\u001b[0m: "
     ]
    }
   ],
   "source": [
    "for link in all_links:\n",
    "    url = link['url']\n",
    "    title = link['title']\n",
    "    date = link['date']\n",
    "    link_to_pdf(url, title, date)"
   ]
  },
  {
   "cell_type": "markdown",
   "metadata": {},
   "source": [
    "下载好的PDF如下图所示，还带目录的哦。然后再将所有单个的PDF合并成一个，就实现了公号文章汇总啦，是不是香喷喷啊？ PDF合并可参考实例4 （https://zhuanlan.zhihu.com/p/60685930） 。"
   ]
  },
  {
   "cell_type": "markdown",
   "metadata": {},
   "source": [
    "![](images/result.png)"
   ]
  }
 ],
 "metadata": {
  "kernelspec": {
   "display_name": "Python 3",
   "language": "python",
   "name": "python3"
  },
  "language_info": {
   "codemirror_mode": {
    "name": "ipython",
    "version": 3
   },
   "file_extension": ".py",
   "mimetype": "text/x-python",
   "name": "python",
   "nbconvert_exporter": "python",
   "pygments_lexer": "ipython3",
   "version": "3.7.1"
  }
 },
 "nbformat": 4,
 "nbformat_minor": 2
}
