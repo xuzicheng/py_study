{
 "cells": [
  {
   "cell_type": "markdown",
   "metadata": {},
   "source": [
    "实例61 (https://zhuanlan.zhihu.com/p/150644859) 制作了让操作可视化的图形用户界面，但是这个程序只能在安装了Python的电脑上运行。如何移植到其他电脑上也能运行呢？那就需要将`py`文件打包成可执行程序了（exe文件）。最常用的第三库是`pyinstaller`。它能把`Python`文件打包成一个可执行文件（exe文件），也可以打包成一个文件夹。对于前者，移植到其它电脑上时，直接双击`exe`文件运行即可。但是对于稍微大一点的软件，这样操作会影响运行速度，所以一般还是打包成文件夹。"
   ]
  },
  {
   "cell_type": "markdown",
   "metadata": {},
   "source": [
    "首先需要安装`pyinstaller`，运行`cmd`，然后输入`pip install pyinstaller -i https://pypi.doubanio.com/simple/`通过豆瓣镜像站点高速安装。不加`-i`及后面那些，安装会比较慢。\n",
    "<br/>\n",
    "<br/>安装好后就可以开始打包了。将待打包的文件单独存一个文件夹，这里存在D盘的`package`文件夹内。然后运行`cmd`，输入`pyinstaller program.py`，回车开始打包。"
   ]
  },
  {
   "cell_type": "markdown",
   "metadata": {},
   "source": [
    "![](images\\prepare.PNG)\n",
    "![](images\\run.png)"
   ]
  },
  {
   "cell_type": "markdown",
   "metadata": {},
   "source": [
    "这里介绍一下`pyinstaller`常用的两个参数，这对于一般用户的需求已经足够了。\n",
    "1. `-D`或者 `--onedir` ：打包成一个文件夹，里面包含可执行程序。这是默认操作，如果要使用它，无需特别指定。也就是说`pyinstaller -D program.py` 与`pyinstaller program.py`执行的是一样的操作。\n",
    "2. `-F` 或者 `--onefile`：打包成单个的可执行文件。举例：`pyinstaller -F program.py`"
   ]
  },
  {
   "cell_type": "markdown",
   "metadata": {},
   "source": [
    "程序运行后，会在目录生成`program.spec`文件，里面是一些打包的规则。还会生成3个文件夹。`__pycache__`文件夹里面是`Python`版本信息。`build`文件夹用于存储日志文件。`dist`文件夹储存可执行文件即相关的文件夹。打包完成后，除了`dist`文件夹，其它都可以删除，没什么用。"
   ]
  },
  {
   "cell_type": "markdown",
   "metadata": {},
   "source": [
    "![](images\\files.png)"
   ]
  },
  {
   "cell_type": "markdown",
   "metadata": {},
   "source": [
    "正翘着二郎腿，喝着茶等打包完成，哪知道天有不测风云。报--错--了！`Recursionerror: maximum recursion depth exceeded`，这是什么鬼？度娘一下，原来是什么“超过最大递归深度”，也不懂，就直接按照别人的方法处理。用记事本打开`program.spec`文件，在第2行输入\"import sys\"，第3行输入\"sys.setrecursionlimit(5000)\"，将递归极限设到5000次。"
   ]
  },
  {
   "cell_type": "markdown",
   "metadata": {},
   "source": [
    "![](images\\error.png)\n",
    "![](images\\error_fix.PNG)"
   ]
  },
  {
   "cell_type": "markdown",
   "metadata": {},
   "source": [
    "然后输入`pyinstaller program.spec`就能正常打包了。打包速度非常慢，但终于成功了。打包完，看了`dist`文件夹的大小，900M！我的天，这是什么大型软件吗？这么几行代码居然搞出这么大的文件，简直就是杀鸡用导弹啊。\n",
    "<br/>\n",
    "<br/>原来是因为电脑安装的`Anaconda`，很多无用的库也被打包进去了。要缩小打包文件的大小，还是得到纯`python`安装环境中去操作。于是安装了`VMware Workstation`，建了一个`Win10`的虚拟机，在虚拟机中安装了`python 3.8`，然后再安装了程序用到的库。重新打包，也没报什么`Recursionerror`的错误，打包速度也加快了不少。查看打包文件，80M，缩小了不止一点点，虽然还是比较大，也将就了。通过查看打包后的文件，主要是图形用户界面`Qt5`占用太多空间。"
   ]
  },
  {
   "cell_type": "markdown",
   "metadata": {},
   "source": [
    "![](images\\tryagain.png)"
   ]
  },
  {
   "cell_type": "markdown",
   "metadata": {},
   "source": [
    "打包好后，需要将其做成一个安装文件，这样就可以分享给所有需要的小伙伴安装使用了。安装文件的制作使用了`NSIS文件夹压缩器`。这是一款非常小巧好用的工具（已跟源文件一起上传网盘，可到微信公众号输入“源文件”提取）。其设置如下。\n",
    "![](images\\nsissetting.png)"
   ]
  },
  {
   "cell_type": "markdown",
   "metadata": {},
   "source": [
    " 填好后，点击“编译”，于是开始工作，很快搞定，完成界面如下。\n",
    " ![](images\\finish.png)"
   ]
  },
  {
   "cell_type": "markdown",
   "metadata": {},
   "source": [
    "我们就能在输出文件夹中找到“领料汇总.exe”这个文件了。双击这个文件，就会弹出安装界面，这和我们平时在网上下载的安装包基本类似。后续的操作就不啰嗦了。安装完成后，在桌面上就能看到快捷方式，双击这个快捷方式，就可以运行程序了。\n",
    "![](images\\setup.png)\n",
    "![](images\\icon.png)"
   ]
  }
 ],
 "metadata": {
  "kernelspec": {
   "display_name": "Python 3",
   "language": "python",
   "name": "python3"
  },
  "language_info": {
   "codemirror_mode": {
    "name": "ipython",
    "version": 3
   },
   "file_extension": ".py",
   "mimetype": "text/x-python",
   "name": "python",
   "nbconvert_exporter": "python",
   "pygments_lexer": "ipython3",
   "version": "3.7.1"
  }
 },
 "nbformat": 4,
 "nbformat_minor": 2
}
