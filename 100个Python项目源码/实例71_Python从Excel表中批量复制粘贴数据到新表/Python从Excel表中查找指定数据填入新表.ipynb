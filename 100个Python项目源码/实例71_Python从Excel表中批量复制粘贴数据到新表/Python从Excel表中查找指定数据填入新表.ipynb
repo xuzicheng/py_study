{
 "cells": [
  {
   "cell_type": "markdown",
   "metadata": {},
   "source": [
    "工作中，经常需要从一些Excel表中复制一些数据，填入统计表中。复制粘贴的体验确实太过机械，枯燥乏味。这种事交给Python，它会心甘情愿，毫无怨言。好了，上实例。领导要求每月将如下“原报表”中粉色部分的数据复制到“抽出数据报表”中。先观察一下“原报表”，这个报表的格式是固定的，不能更改。其中第8,9,11行是没有数据的，因此在提取数据的时候需要跳过。所以我们的步骤如下：\n",
    "1. 提取“原报表”第8行往下不为空的数据\n",
    "2. 写入到“抽出数据报表”\n",
    "3. 设置写入内容的格式及边框、行高等，保存"
   ]
  },
  {
   "cell_type": "markdown",
   "metadata": {},
   "source": [
    "![](images\\problem.png)"
   ]
  },
  {
   "cell_type": "markdown",
   "metadata": {},
   "source": [
    "因为原报表是\".xls\"后缀的，所以不能使用`openpyxl`库，这里使用`xlrd`。读取工作簿，存入`wb`，然后选取第一个工作表，存入`ws`。新建一个列表`data`用于储存获取的数据。然后从第8行（对应索引为0）遍历工作表。其中第2列（索引为1）对应为“科室名称”，第3列是“总计”，第4列是“计”，第21列是“平均每日人次”。将每行的数据放入列表`info_list`。由于有些行的数据是空的，所以加入一个`if`语句进行判断，只有不是空数据，才放入总列表`data`。最后查看一下`data`列表的数据，正是我们需要的。"
   ]
  },
  {
   "cell_type": "code",
   "execution_count": 11,
   "metadata": {},
   "outputs": [
    {
     "data": {
      "text/plain": [
       "[['A科', '1585', 1615.0, '53'],\n",
       " ['B科', 749.0, 742.0, '23'],\n",
       " ['C科', 549.0, 543.0, '17'],\n",
       " ['D科', 1608.0, 1604.0, '52'],\n",
       " ['E科', 471.0, 470.0, '14'],\n",
       " ['F科', 651.0, 648.0, '20']]"
      ]
     },
     "execution_count": 11,
     "metadata": {},
     "output_type": "execute_result"
    }
   ],
   "source": [
    "#读取xls文件中的数据\n",
    "import xlrd\n",
    "\n",
    "file = \"原表.xls\"\n",
    "wb = xlrd.open_workbook(file) #读取工作簿\n",
    "ws = wb.sheets()[0] #选第一个工作表\n",
    "data = []\n",
    "\n",
    "for row in range(7, ws.nrows):\n",
    "    name = ws.cell(row, 1).value.strip() #科室名称\n",
    "    total1 = ws.cell(row, 2).value #总计\n",
    "    total2 = ws.cell(row, 3).value #计\n",
    "    avg = ws.cell(row, 20).value #平均每日人次\n",
    "    \n",
    "    info_list=[name,total1,total2,avg]\n",
    "\n",
    "    if info_list[0] != \"\": #去除空数据\n",
    "        data.append(info_list)\n",
    "data "
   ]
  },
  {
   "cell_type": "markdown",
   "metadata": {},
   "source": [
    "获取完数据，开始写入统计表。因为统计表是`xlsx`后缀的，这个时候可以叫`openpyxl`出来活动一下筋骨了。顺便导入“设置单元格格式”的相关的模块。因为数据列表`data`中全是子列表，所以直接使用`append`方法整行写入最为方便。数据写完后，需要设置行高，字号，加粗，对齐，单元格边框等。全部设置完后保存数据。"
   ]
  },
  {
   "cell_type": "code",
   "execution_count": 16,
   "metadata": {},
   "outputs": [],
   "source": [
    "from openpyxl import load_workbook\n",
    "from openpyxl.styles import Border, Side, PatternFill, Font, GradientFill, Alignment #设置单元格格式\n",
    "thin = Side(border_style=\"thin\", color=\"000000\")#定义边框粗细及颜色\n",
    "\n",
    "file = \"统计表模板.xlsx\"\n",
    "wb = load_workbook(file)\n",
    "ws = wb.active\n",
    "\n",
    "#写入数据\n",
    "for i in data:\n",
    "    ws.append(i)\n",
    "    \n",
    "#设置字号，对齐，缩小字体填充，加边框\n",
    "#Font(bold=True)可加粗字体\n",
    "for row_number in range(3, ws.max_row+1):    \n",
    "    ws.row_dimensions[row_number].height = 25 #设置行高\n",
    "    for col_number in range(1,5):\n",
    "        c = ws.cell(row=row_number,column=col_number)\n",
    "        c.font = Font(size=11,bold=True)\n",
    "        c.border = Border(top=thin, left=thin, right=thin, bottom=thin)\n",
    "        c.alignment = Alignment(horizontal=\"center\", vertical=\"center\")\n",
    "    \n",
    "wb.save(\"统计表.xlsx\")\n",
    "    "
   ]
  },
  {
   "cell_type": "markdown",
   "metadata": {},
   "source": [
    "看一下结果，美美哒。\n",
    "![](images\\theresult.png)"
   ]
  }
 ],
 "metadata": {
  "kernelspec": {
   "display_name": "Python 3",
   "language": "python",
   "name": "python3"
  },
  "language_info": {
   "codemirror_mode": {
    "name": "ipython",
    "version": 3
   },
   "file_extension": ".py",
   "mimetype": "text/x-python",
   "name": "python",
   "nbconvert_exporter": "python",
   "pygments_lexer": "ipython3",
   "version": "3.6.5"
  }
 },
 "nbformat": 4,
 "nbformat_minor": 2
}
