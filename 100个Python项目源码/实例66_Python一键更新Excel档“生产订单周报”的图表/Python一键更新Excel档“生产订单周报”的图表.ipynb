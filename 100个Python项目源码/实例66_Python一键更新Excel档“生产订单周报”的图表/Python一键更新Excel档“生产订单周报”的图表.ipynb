{
 "cells": [
  {
   "cell_type": "markdown",
   "metadata": {},
   "source": [
    "小编每周都要更新最近12周的“生产订单周报”给老板，而且要对比最近两年相同周数的数据。主要是两张图，一张是“一周生产订单对比”，另一张是“各部门订单比例”。虽然在Excel表中建了数据透视表，但是每周都还是需要花时间进行一通凶猛的操作，才能搞定。可不可以每周一键更新，并得到这两张图呢？\n",
    "![](images\\result.png)"
   ]
  },
  {
   "cell_type": "markdown",
   "metadata": {},
   "source": [
    "导入`pandas`库，并读取原始表格。由于这个表格是文员手工记录，所以有些单元格可能漏填了，读取出来会显示为\"NaN\"，所以需要使用`fillna`将所有\"NaN\"的数据填充为“0”。`inplace = True`表示在原`dataframe`中更新，不然会更新后生成新的`dataframe`。由于数量列都是整数，而读取出来的数据是浮点型`float`，所以使用`astype`将数据转换为整型。为什么要转换呢？还是考虑到后面在柱状图上的显示问题，如果保持浮点型，“291”会显示成“291.0”，那就不专业了啊。"
   ]
  },
  {
   "cell_type": "code",
   "execution_count": 1,
   "metadata": {
    "scrolled": true
   },
   "outputs": [
    {
     "data": {
      "text/plain": [
       "部门              object\n",
       "产品编号            object\n",
       "订单              object\n",
       "文件              object\n",
       "数量               int32\n",
       "日期      datetime64[ns]\n",
       "dtype: object"
      ]
     },
     "execution_count": 1,
     "metadata": {},
     "output_type": "execute_result"
    }
   ],
   "source": [
    "import pandas as pd\n",
    "file = '生产订单.xlsx'\n",
    "df = pd.read_excel(file)\n",
    "df.fillna(0,inplace = True)\n",
    "df[\"数量\"] = df[\"数量\"].astype('int')\n",
    "df.dtypes"
   ]
  },
  {
   "cell_type": "markdown",
   "metadata": {},
   "source": [
    "因为我们是要按年和周数来汇总数据，而原表没有这两个字段，所以需要新增。周数和年份直接来自原表的“日期”字段，分别使用`dt.week`和`dt.year`就能得到。"
   ]
  },
  {
   "cell_type": "code",
   "execution_count": 2,
   "metadata": {
    "scrolled": true
   },
   "outputs": [
    {
     "data": {
      "text/html": [
       "<div>\n",
       "<style scoped>\n",
       "    .dataframe tbody tr th:only-of-type {\n",
       "        vertical-align: middle;\n",
       "    }\n",
       "\n",
       "    .dataframe tbody tr th {\n",
       "        vertical-align: top;\n",
       "    }\n",
       "\n",
       "    .dataframe thead th {\n",
       "        text-align: right;\n",
       "    }\n",
       "</style>\n",
       "<table border=\"1\" class=\"dataframe\">\n",
       "  <thead>\n",
       "    <tr style=\"text-align: right;\">\n",
       "      <th></th>\n",
       "      <th>部门</th>\n",
       "      <th>产品编号</th>\n",
       "      <th>订单</th>\n",
       "      <th>文件</th>\n",
       "      <th>数量</th>\n",
       "      <th>日期</th>\n",
       "      <th>周数</th>\n",
       "      <th>年份</th>\n",
       "    </tr>\n",
       "  </thead>\n",
       "  <tbody>\n",
       "    <tr>\n",
       "      <th>0</th>\n",
       "      <td>PZ</td>\n",
       "      <td>Y2P-047-XX-99904</td>\n",
       "      <td>O239156</td>\n",
       "      <td>DOC-PZ-1812001</td>\n",
       "      <td>1</td>\n",
       "      <td>2019-01-02</td>\n",
       "      <td>1</td>\n",
       "      <td>2019</td>\n",
       "    </tr>\n",
       "    <tr>\n",
       "      <th>1</th>\n",
       "      <td>GC</td>\n",
       "      <td>J1THXX1-XX-99901</td>\n",
       "      <td>O239157</td>\n",
       "      <td>DOC-18-1824</td>\n",
       "      <td>150</td>\n",
       "      <td>2019-01-02</td>\n",
       "      <td>1</td>\n",
       "      <td>2019</td>\n",
       "    </tr>\n",
       "    <tr>\n",
       "      <th>2</th>\n",
       "      <td>GC</td>\n",
       "      <td>J1THXX1-XX-99901</td>\n",
       "      <td>O239158</td>\n",
       "      <td>DOC-18-1825</td>\n",
       "      <td>1200</td>\n",
       "      <td>2019-01-02</td>\n",
       "      <td>1</td>\n",
       "      <td>2019</td>\n",
       "    </tr>\n",
       "    <tr>\n",
       "      <th>3</th>\n",
       "      <td>GC</td>\n",
       "      <td>N0TTXX2-XX-99901</td>\n",
       "      <td>O239160</td>\n",
       "      <td>DOC-18-1591</td>\n",
       "      <td>117</td>\n",
       "      <td>2019-01-02</td>\n",
       "      <td>1</td>\n",
       "      <td>2019</td>\n",
       "    </tr>\n",
       "    <tr>\n",
       "      <th>4</th>\n",
       "      <td>GC</td>\n",
       "      <td>Y3LXXX1-XX-99901</td>\n",
       "      <td>O239165</td>\n",
       "      <td>DOC-18-1802</td>\n",
       "      <td>90</td>\n",
       "      <td>2019-01-02</td>\n",
       "      <td>1</td>\n",
       "      <td>2019</td>\n",
       "    </tr>\n",
       "  </tbody>\n",
       "</table>\n",
       "</div>"
      ],
      "text/plain": [
       "   部门              产品编号       订单              文件    数量         日期  周数    年份\n",
       "0  PZ  Y2P-047-XX-99904  O239156  DOC-PZ-1812001     1 2019-01-02   1  2019\n",
       "1  GC  J1THXX1-XX-99901  O239157     DOC-18-1824   150 2019-01-02   1  2019\n",
       "2  GC  J1THXX1-XX-99901  O239158     DOC-18-1825  1200 2019-01-02   1  2019\n",
       "3  GC  N0TTXX2-XX-99901  O239160     DOC-18-1591   117 2019-01-02   1  2019\n",
       "4  GC  Y3LXXX1-XX-99901  O239165     DOC-18-1802    90 2019-01-02   1  2019"
      ]
     },
     "execution_count": 2,
     "metadata": {},
     "output_type": "execute_result"
    }
   ],
   "source": [
    "#增加周数字段\n",
    "df[\"周数\"] = df[\"日期\"].dt.week\n",
    "df[\"年份\"] = df[\"日期\"].dt.year\n",
    "df.head()"
   ]
  },
  {
   "cell_type": "markdown",
   "metadata": {},
   "source": [
    "每周更新数据的时候，都希望自动选取最近的12周，所以需要获取当前的周数，因此增加了如下程序。`isocalendar()`可将日期转换成由年份、周数、当周的天数组成的元组。其中第二个值就是周数。"
   ]
  },
  {
   "cell_type": "code",
   "execution_count": 3,
   "metadata": {
    "scrolled": true
   },
   "outputs": [
    {
     "data": {
      "text/plain": [
       "27"
      ]
     },
     "execution_count": 3,
     "metadata": {},
     "output_type": "execute_result"
    }
   ],
   "source": [
    "#获取当前周数\n",
    "import datetime\n",
    "year,current_week,day = datetime.datetime.now().isocalendar()\n",
    "current_week"
   ]
  },
  {
   "cell_type": "markdown",
   "metadata": {},
   "source": [
    "由于只获取最近12周的数据，所以需要加入筛选语句如下。这样2019年和2020年对应的12周的数据都提取出来了。"
   ]
  },
  {
   "cell_type": "code",
   "execution_count": 4,
   "metadata": {
    "scrolled": true
   },
   "outputs": [
    {
     "data": {
      "text/html": [
       "<div>\n",
       "<style scoped>\n",
       "    .dataframe tbody tr th:only-of-type {\n",
       "        vertical-align: middle;\n",
       "    }\n",
       "\n",
       "    .dataframe tbody tr th {\n",
       "        vertical-align: top;\n",
       "    }\n",
       "\n",
       "    .dataframe thead th {\n",
       "        text-align: right;\n",
       "    }\n",
       "</style>\n",
       "<table border=\"1\" class=\"dataframe\">\n",
       "  <thead>\n",
       "    <tr style=\"text-align: right;\">\n",
       "      <th></th>\n",
       "      <th>部门</th>\n",
       "      <th>产品编号</th>\n",
       "      <th>订单</th>\n",
       "      <th>文件</th>\n",
       "      <th>数量</th>\n",
       "      <th>日期</th>\n",
       "      <th>周数</th>\n",
       "      <th>年份</th>\n",
       "    </tr>\n",
       "  </thead>\n",
       "  <tbody>\n",
       "    <tr>\n",
       "      <th>153</th>\n",
       "      <td>GC</td>\n",
       "      <td>J1TH011-XX-99901</td>\n",
       "      <td>O276010</td>\n",
       "      <td>DOC-19-284</td>\n",
       "      <td>150</td>\n",
       "      <td>2019-04-09</td>\n",
       "      <td>15</td>\n",
       "      <td>2019</td>\n",
       "    </tr>\n",
       "    <tr>\n",
       "      <th>154</th>\n",
       "      <td>GC</td>\n",
       "      <td>Y2P-241-XX-99904</td>\n",
       "      <td>O278550</td>\n",
       "      <td>DOC-19-314</td>\n",
       "      <td>96</td>\n",
       "      <td>2019-04-12</td>\n",
       "      <td>15</td>\n",
       "      <td>2019</td>\n",
       "    </tr>\n",
       "    <tr>\n",
       "      <th>155</th>\n",
       "      <td>GC</td>\n",
       "      <td>Y2P-214BXX-99901</td>\n",
       "      <td>O278552</td>\n",
       "      <td>DOC-19-318</td>\n",
       "      <td>45</td>\n",
       "      <td>2019-04-12</td>\n",
       "      <td>15</td>\n",
       "      <td>2019</td>\n",
       "    </tr>\n",
       "    <tr>\n",
       "      <th>156</th>\n",
       "      <td>SG</td>\n",
       "      <td>Y1TSXX1-XX-99901</td>\n",
       "      <td>O279987</td>\n",
       "      <td>DOC-SG-1904008</td>\n",
       "      <td>8</td>\n",
       "      <td>2019-04-16</td>\n",
       "      <td>16</td>\n",
       "      <td>2019</td>\n",
       "    </tr>\n",
       "    <tr>\n",
       "      <th>157</th>\n",
       "      <td>GC</td>\n",
       "      <td>Y2P-241-XX-99905</td>\n",
       "      <td>O280009</td>\n",
       "      <td>DOC-19-322</td>\n",
       "      <td>80</td>\n",
       "      <td>2019-04-16</td>\n",
       "      <td>16</td>\n",
       "      <td>2019</td>\n",
       "    </tr>\n",
       "  </tbody>\n",
       "</table>\n",
       "</div>"
      ],
      "text/plain": [
       "     部门              产品编号       订单              文件   数量         日期  周数    年份\n",
       "153  GC  J1TH011-XX-99901  O276010      DOC-19-284  150 2019-04-09  15  2019\n",
       "154  GC  Y2P-241-XX-99904  O278550      DOC-19-314   96 2019-04-12  15  2019\n",
       "155  GC  Y2P-214BXX-99901  O278552      DOC-19-318   45 2019-04-12  15  2019\n",
       "156  SG  Y1TSXX1-XX-99901  O279987  DOC-SG-1904008    8 2019-04-16  16  2019\n",
       "157  GC  Y2P-241-XX-99905  O280009      DOC-19-322   80 2019-04-16  16  2019"
      ]
     },
     "execution_count": 4,
     "metadata": {},
     "output_type": "execute_result"
    }
   ],
   "source": [
    "#只获取最近12周的数据\n",
    "df_required = df[(df[\"周数\"] >= (current_week-12)) & (df[\"周数\"] <= (current_week-1))]\n",
    "df_required.head()"
   ]
  },
  {
   "cell_type": "markdown",
   "metadata": {},
   "source": [
    "然后开始按周数和年份分组，其对应的数量加总，得到新的`dataframe`“result”。"
   ]
  },
  {
   "cell_type": "code",
   "execution_count": 5,
   "metadata": {
    "scrolled": true
   },
   "outputs": [
    {
     "data": {
      "text/html": [
       "<div>\n",
       "<style scoped>\n",
       "    .dataframe tbody tr th:only-of-type {\n",
       "        vertical-align: middle;\n",
       "    }\n",
       "\n",
       "    .dataframe tbody tr th {\n",
       "        vertical-align: top;\n",
       "    }\n",
       "\n",
       "    .dataframe thead th {\n",
       "        text-align: right;\n",
       "    }\n",
       "</style>\n",
       "<table border=\"1\" class=\"dataframe\">\n",
       "  <thead>\n",
       "    <tr style=\"text-align: right;\">\n",
       "      <th></th>\n",
       "      <th>周数</th>\n",
       "      <th>年份</th>\n",
       "      <th>数量</th>\n",
       "    </tr>\n",
       "  </thead>\n",
       "  <tbody>\n",
       "    <tr>\n",
       "      <th>0</th>\n",
       "      <td>15</td>\n",
       "      <td>2019</td>\n",
       "      <td>291</td>\n",
       "    </tr>\n",
       "    <tr>\n",
       "      <th>1</th>\n",
       "      <td>15</td>\n",
       "      <td>2020</td>\n",
       "      <td>687</td>\n",
       "    </tr>\n",
       "    <tr>\n",
       "      <th>2</th>\n",
       "      <td>16</td>\n",
       "      <td>2019</td>\n",
       "      <td>1745</td>\n",
       "    </tr>\n",
       "    <tr>\n",
       "      <th>3</th>\n",
       "      <td>16</td>\n",
       "      <td>2020</td>\n",
       "      <td>1536</td>\n",
       "    </tr>\n",
       "    <tr>\n",
       "      <th>4</th>\n",
       "      <td>17</td>\n",
       "      <td>2019</td>\n",
       "      <td>482</td>\n",
       "    </tr>\n",
       "  </tbody>\n",
       "</table>\n",
       "</div>"
      ],
      "text/plain": [
       "   周数    年份    数量\n",
       "0  15  2019   291\n",
       "1  15  2020   687\n",
       "2  16  2019  1745\n",
       "3  16  2020  1536\n",
       "4  17  2019   482"
      ]
     },
     "execution_count": 5,
     "metadata": {},
     "output_type": "execute_result"
    }
   ],
   "source": [
    "result=df_required.groupby([\"周数\",\"年份\"])['数量'].sum().reset_index()#reset后才是DF，不然是Series\n",
    "result.head()"
   ]
  },
  {
   "cell_type": "code",
   "execution_count": 6,
   "metadata": {
    "scrolled": true
   },
   "outputs": [
    {
     "data": {
      "text/plain": [
       "0      291\n",
       "2     1745\n",
       "4      482\n",
       "6      352\n",
       "8      416\n",
       "10     480\n",
       "12     145\n",
       "14    1198\n",
       "16     298\n",
       "18     329\n",
       "20     162\n",
       "22    1430\n",
       "Name: 数量, dtype: int32"
      ]
     },
     "execution_count": 6,
     "metadata": {},
     "output_type": "execute_result"
    }
   ],
   "source": [
    "result[result[\"年份\"]==2019][\"数量\"]"
   ]
  },
  {
   "cell_type": "markdown",
   "metadata": {},
   "source": [
    "数据整理好后，就可以开始绘制图表了。这里统一使用`matplotlib`来绘图。需要注意，如果图表有中文，必须配置中文字体，不然会显示成方框。然后通过`rcParams`设置全局字体大小，`figsize`设置图片大小。然后调用`plt.bar`进行柱状图绘制，将数据，颜色，图例等传入。再设置标题，数据标签等。最后保存图片，这样就搞定了一张图。"
   ]
  },
  {
   "cell_type": "code",
   "execution_count": 7,
   "metadata": {},
   "outputs": [],
   "source": [
    "%matplotlib inline\n",
    "#以上用于在notebook中显示绘图"
   ]
  },
  {
   "cell_type": "code",
   "execution_count": 13,
   "metadata": {
    "scrolled": false
   },
   "outputs": [
    {
     "data": {
      "image/png": "[encoded data removed]",
      "text/plain": [
       "<Figure size 864x432 with 1 Axes>"
      ]
     },
     "metadata": {
      "needs_background": "light"
     },
     "output_type": "display_data"
    }
   ],
   "source": [
    "# 如果有中文，需要配置中文字体，不然会显示成方框\n",
    "import matplotlib as mpl\n",
    "import matplotlib.pyplot as plt\n",
    "import numpy as np\n",
    "\n",
    "plt.rcParams['font.sans-serif']=['SimHei'] #用来正常显示中文标签\n",
    "#数据和标签\n",
    "qty_2019 = result[result[\"年份\"]==2019][\"数量\"]\n",
    "qty_2020 = result[result[\"年份\"]==2020][\"数量\"]\n",
    "x_label = result[result[\"年份\"]==2019][\"周数\"]\n",
    " \n",
    "#设置字体大小\n",
    "mpl.rcParams['font.size'] = 12\n",
    "#设置图片大小\n",
    "plt.figure(figsize=(12, 6))\n",
    "# 设置柱形图宽度\n",
    "bar_width = 0.45\n",
    "\n",
    "index = np.arange(12)\n",
    "# 绘制2019年数据\n",
    "qty1 = plt.bar(index, qty_2019, bar_width, color='#336633', label=\"2019\")\n",
    "# 绘制2020年数据\n",
    "qty2 = plt.bar(index + bar_width, qty_2020, bar_width, color='#6666CC', label=\"2020\")\n",
    "\n",
    "# X,Y轴标题\n",
    "plt.xticks(index + bar_width, x_label)\n",
    "plt.xlabel(\"周数\", fontsize = 14 )\n",
    "plt.ylabel(\"产品数量/台\", fontsize = 14 )\n",
    "# 图表标题\n",
    "plt.title(u'每周生产订单对比', fontsize = 20)\n",
    "# 图例显示\n",
    "plt.legend()\n",
    "# 添加数据标签\n",
    "def add_labels(qtys):\n",
    "    for qty in qtys:\n",
    "        height = qty.get_height()\n",
    "        plt.text(qty.get_x() + qty.get_width() / 2, height, height, ha='center', va='bottom')\n",
    "        # 柱形图边缘用白色填充\n",
    "        qty.set_edgecolor('white')\n",
    "add_labels(qty1)\n",
    "add_labels(qty2)\n",
    "\n",
    "plt.savefig('prod_order.png')"
   ]
  },
  {
   "cell_type": "markdown",
   "metadata": {},
   "source": [
    "然后整理一下数据，继续绘制第二张图。这里是按部门计算订单数量，是计数，不是求和，因此使用`value_counts()`。"
   ]
  },
  {
   "cell_type": "code",
   "execution_count": 9,
   "metadata": {},
   "outputs": [],
   "source": [
    "#按部门计算订单数量\n",
    "order_2019 = df_required[df_required[\"年份\"]==2019]\n",
    "dept_2019 = order_2019[\"部门\"].value_counts()\n",
    "order_2020 = df_required[df_required[\"年份\"]==2020]\n",
    "dept_2020 = order_2020[\"部门\"].value_counts()"
   ]
  },
  {
   "cell_type": "code",
   "execution_count": 10,
   "metadata": {},
   "outputs": [
    {
     "data": {
      "text/plain": [
       "Index(['GC', 'PZ', 'SG', 'GG', 'MJ'], dtype='object')"
      ]
     },
     "execution_count": 10,
     "metadata": {},
     "output_type": "execute_result"
    }
   ],
   "source": [
    "dept_2019.index"
   ]
  },
  {
   "cell_type": "code",
   "execution_count": 11,
   "metadata": {
    "scrolled": true
   },
   "outputs": [
    {
     "data": {
      "text/plain": [
       "GC    66\n",
       "PZ    23\n",
       "SG    10\n",
       "GG     6\n",
       "MJ     5\n",
       "Name: 部门, dtype: int64"
      ]
     },
     "execution_count": 11,
     "metadata": {},
     "output_type": "execute_result"
    }
   ],
   "source": [
    "dept_2019"
   ]
  },
  {
   "cell_type": "markdown",
   "metadata": {},
   "source": [
    "两年最近12周的数据都整理好后，开始绘图。由于要在一个画布上显示两张图，所以使用了`add_subplot()`，其中的参数(1,2,1)表示这个画布要绘制1行2列个图，也就是并排的两个图，最后一个1表示这是第一个图。\n",
    "<br/>\n",
    "<br/>然后定义了一个函数`my_label`，用于在图上显示数据和其百分比。这个抄至`matplotlib`官网（https://matplotlib.org/gallery/pie_and_polar_charts/pie_and_donut_labels.html） 这上面有很多的例子，可根据实际需要尽情抄袭。关于绘图这块，网上的资源非常多，"
   ]
  },
  {
   "cell_type": "code",
   "execution_count": 12,
   "metadata": {},
   "outputs": [
    {
     "data": {
      "image/png": "[encoded data removed]",
      "text/plain": [
       "<Figure size 864x432 with 2 Axes>"
      ]
     },
     "metadata": {},
     "output_type": "display_data"
    }
   ],
   "source": [
    "#绘制饼图\n",
    "import matplotlib as mpl\n",
    "import numpy as np\n",
    "plt.rcParams['font.sans-serif']=['SimHei'] #用来正常显示中文标签\n",
    "mpl.rcParams['font.size'] = 12\n",
    "fig = plt.figure(figsize=(12, 6))\n",
    "ax1 = fig.add_subplot(1,2,1)\n",
    "\n",
    "def my_label(pct, allvals):\n",
    "    absolute = int(pct/100.*np.sum(allvals))\n",
    "    return \"{:.1f}%\\n({:d})\".format(pct, absolute)\n",
    "\n",
    "explode = (0.1,0,0,0,0)\n",
    "plt.pie(dept_2019,autopct= lambda x: my_label(x,dept_2019),explode = explode, labels = dept_2019.index,shadow=True, startangle=150)\n",
    "plt.title(\"各部门订单比例\\n(最近12周)_2019\",fontsize = 20)\n",
    "# plt.label(\"2019\",fontsize = 14)\n",
    "ax2 = fig.add_subplot(1,2,2)\n",
    "plt.pie(dept_2020,autopct= lambda x: my_label(x,dept_2020),explode = explode, labels = dept_2020.index,shadow=True, startangle=150)\n",
    "plt.title(\"各部门订单比例\\n(最近12周)_2020\",fontsize = 20)\n",
    "\n",
    "plt.savefig('order_byDept.png')"
   ]
  }
 ],
 "metadata": {
  "kernelspec": {
   "display_name": "Python 3",
   "language": "python",
   "name": "python3"
  },
  "language_info": {
   "codemirror_mode": {
    "name": "ipython",
    "version": 3
   },
   "file_extension": ".py",
   "mimetype": "text/x-python",
   "name": "python",
   "nbconvert_exporter": "python",
   "pygments_lexer": "ipython3",
   "version": "3.6.5"
  }
 },
 "nbformat": 4,
 "nbformat_minor": 2
}
