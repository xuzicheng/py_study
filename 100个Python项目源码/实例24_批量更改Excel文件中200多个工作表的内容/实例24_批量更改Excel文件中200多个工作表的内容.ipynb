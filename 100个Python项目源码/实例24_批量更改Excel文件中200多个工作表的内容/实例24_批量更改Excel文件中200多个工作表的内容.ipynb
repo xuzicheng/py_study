{
 "cells": [
  {
   "cell_type": "markdown",
   "metadata": {},
   "source": [
    "# 实例24_批量更改Excel文件中200多个工作表的内容"
   ]
  },
  {
   "cell_type": "markdown",
   "metadata": {},
   "source": [
    "上次做好的每日领料表，高兴地交了作业。谁知天有不测风云，财务部看了，表示标题不太合适，得改！我部门职员顿时脑海中一万只羊驼奔腾，早干什么去了啊，我们可是百分之百，一点折扣没打的完全按财务的模板来做的啊。两百多张表，说改就改，are you kidding me？工作中这个场景够熟悉吧？这绝不是什么稀罕事，每家公司天天都在发生。情绪归情绪，事还是要做的。我们首先秀出苦瓜脸，对财务部表示了极大的不满，表示这严重地增加了我部的工作量，劳民伤财，希望后续一次决定好，不要随便变花样。财务部自知理亏，只得点头哈腰表示抱歉。回到办公室，苦瓜脸马上变成了偷着乐的脸。然后慢悠悠地冲了杯咖啡，翘起二郎腿，贼笑着打开了`jupyter notebook`。有Python，随便改啊~~"
   ]
  },
  {
   "cell_type": "markdown",
   "metadata": {},
   "source": [
    "原来的表是长这样的：\n",
    "![](images\\list.png)\n",
    "现在要求将每张表的标题由“计划外出\\入库及仓库调整单”改成“零件测试领料单”。我们先看一下需要改的部分位于工作表的哪个单元格，点中标题所在单元格，Excel显示其位置在\"A4\"。注意这是一个合并单元格，合并前其左上角那个单元格就是它所在的位置。这样，我们只需要打开每张工作表，把A4单元格的内容修改为“零件测试领料单”，然后保存即可。跟手动操作完全一样，只不过速度则是兔子和乌龟的区别。\n",
    "![](images\\location.png)"
   ]
  },
  {
   "cell_type": "code",
   "execution_count": 1,
   "metadata": {},
   "outputs": [
    {
     "name": "stderr",
     "output_type": "stream",
     "text": [
      "d:\\python\\lib\\site-packages\\ipykernel_launcher.py:3: DeprecationWarning: Call to deprecated function get_sheet_names (Use wb.sheetnames).\n",
      "  This is separate from the ipykernel package so we can avoid doing imports until\n"
     ]
    }
   ],
   "source": [
    "from openpyxl import load_workbook\n",
    "wb = load_workbook(\"data\\领料单（每日）.xlsx\")\n",
    "sheet_names=wb.get_sheet_names() #获得工作簿的所有工作表名\n",
    "for sheet_name in sheet_names: #遍历每个工作表，更改A4单元格的数据\n",
    "    ws=wb[sheet_name]\n",
    "    ws['A4'].value=\"零件测试领料单\" #直接将A4单元格的值改为需要的\n",
    "wb.save(\"data\\领料单（每日）-更改后.xlsx\")"
   ]
  },
  {
   "cell_type": "markdown",
   "metadata": {},
   "source": [
    "以上7行代码搞定，绝不拖泥带水。运行时间也是贼快，也就20秒左右，200多张表飞速完成。看一下结果:\n",
    "![](images\\result.png)"
   ]
  },
  {
   "cell_type": "markdown",
   "metadata": {},
   "source": [
    "首先，打开工作簿`领料单（每日）.xlsx`，然后通过`get_sheet_names()`获取所有工作表的名称，并存入`sheet_names`。我们可以看一下`sheet_names`是何方神圣(如下），可见它是一个列表。再通过切片`sheet_names[:5]`看一下这个列表前5个是什么，发现是日期，也就是每个工作表对应的名称。"
   ]
  },
  {
   "cell_type": "code",
   "execution_count": 2,
   "metadata": {},
   "outputs": [
    {
     "data": {
      "text/plain": [
       "list"
      ]
     },
     "execution_count": 2,
     "metadata": {},
     "output_type": "execute_result"
    }
   ],
   "source": [
    "type(sheet_names)"
   ]
  },
  {
   "cell_type": "code",
   "execution_count": 3,
   "metadata": {
    "scrolled": true
   },
   "outputs": [
    {
     "data": {
      "text/plain": [
       "['01-10', '01-14', '01-16', '01-18', '01-22']"
      ]
     },
     "execution_count": 3,
     "metadata": {},
     "output_type": "execute_result"
    }
   ],
   "source": [
    "sheet_names[:5]"
   ]
  },
  {
   "cell_type": "markdown",
   "metadata": {},
   "source": [
    "然后我们通过`ws=wb[sheet_name]`逐个打开每个工作表，然后暴力更改A4单元格的内容`ws['A4'].value=\"零件测试领料单\"`，最后保存数据，完满手工！是不是很酷啊？"
   ]
  },
  {
   "cell_type": "code",
   "execution_count": null,
   "metadata": {},
   "outputs": [],
   "source": []
  }
 ],
 "metadata": {
  "kernelspec": {
   "display_name": "Python 3",
   "language": "python",
   "name": "python3"
  },
  "language_info": {
   "codemirror_mode": {
    "name": "ipython",
    "version": 3
   },
   "file_extension": ".py",
   "mimetype": "text/x-python",
   "name": "python",
   "nbconvert_exporter": "python",
   "pygments_lexer": "ipython3",
   "version": "3.6.5"
  }
 },
 "nbformat": 4,
 "nbformat_minor": 2
}
