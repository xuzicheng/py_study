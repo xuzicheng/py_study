{
 "cells": [
  {
   "cell_type": "markdown",
   "metadata": {},
   "source": [
    "在工作中，我们经常遇到将Excel表中的部分信息填写到Word文档的对应表格中，以生成报告，方便打印。今天我们就来试试如何往固定的Word模板中填写数据。此例要求将Excel档的“收货数据”填写到Word档的“收货记录”中去，并加总收货数量。模板是下面这样的。\n",
    "![](images\\temp.png)\n",
    "要求结果是这样的：\n",
    "![](images\\result.png)"
   ]
  },
  {
   "cell_type": "markdown",
   "metadata": {},
   "source": [
    "首先，需要从Excel表格中提取数据。"
   ]
  },
  {
   "cell_type": "code",
   "execution_count": 1,
   "metadata": {},
   "outputs": [],
   "source": [
    "#从Excel表中提取数据\n",
    "from openpyxl import load_workbook\n",
    "wb = load_workbook(\"收货数据.xlsx\")\n",
    "ws = wb.active\n",
    "data=[]\n",
    "for row in range(2,ws.max_row+1):\n",
    "    seq = ws[\"A\"+str(row)].value\n",
    "    supplier = ws[\"B\"+str(row)].value\n",
    "    material_pn = ws[\"C\"+str(row)].value\n",
    "    material_model = ws[\"D\"+str(row)].value\n",
    "    desp = ws[\"E\"+str(row)].value\n",
    "    qty = ws[\"F\"+str(row)].value\n",
    "    date = ws[\"G\"+str(row)].value.date()\n",
    "    info = [seq, supplier, material_pn, material_model, desp, qty, date]\n",
    "    data.append(info)"
   ]
  },
  {
   "cell_type": "code",
   "execution_count": 2,
   "metadata": {
    "scrolled": false
   },
   "outputs": [
    {
     "data": {
      "text/plain": [
       "[1,\n",
       " '供应商HH',\n",
       " 'PROYY-0001',\n",
       " 'PROYY-0001CP*-SM00001',\n",
       " 'SM00001',\n",
       " 165,\n",
       " datetime.date(2019, 1, 1)]"
      ]
     },
     "execution_count": 2,
     "metadata": {},
     "output_type": "execute_result"
    }
   ],
   "source": [
    "#检查一下数据\n",
    "data[0]"
   ]
  },
  {
   "cell_type": "markdown",
   "metadata": {},
   "source": [
    "由于需要将数量列的数据加总，所以先定义一个加总函数，以便后面调用。"
   ]
  },
  {
   "cell_type": "code",
   "execution_count": 3,
   "metadata": {},
   "outputs": [],
   "source": [
    "#定义数量加总函数\n",
    "def Sum_list(list):\n",
    "    s = 0\n",
    "    for i in list: #累加列表中的所有数\n",
    "        s+=i\n",
    "    return s"
   ]
  },
  {
   "cell_type": "code",
   "execution_count": 4,
   "metadata": {
    "scrolled": true
   },
   "outputs": [
    {
     "data": {
      "text/plain": [
       "2307"
      ]
     },
     "execution_count": 4,
     "metadata": {},
     "output_type": "execute_result"
    }
   ],
   "source": [
    "#加总数量列的所有数字\n",
    "qty_list=[]\n",
    "for i in data:\n",
    "    qty_list.append(i[5]) #数量在内层列表的第6个位置，索引是5\n",
    "sum_qty= Sum_list(qty_list) #调用加总函数加总\n",
    "sum_qty"
   ]
  },
  {
   "cell_type": "markdown",
   "metadata": {},
   "source": [
    "定义单元格合并函数，实例28有详细解释，可移步https://mp.weixin.qq.com/s/d4JTViIZA5GyDmwKlow8Ug 了解。"
   ]
  },
  {
   "cell_type": "code",
   "execution_count": 5,
   "metadata": {},
   "outputs": [],
   "source": [
    "#定义合并单元格的函数    \n",
    "def Merge_cells(table,target_list,start_row,col):\n",
    "    '''\n",
    "    table: 是需要操作的表格\n",
    "    target_list: 是目标列表，即含有重复数据的列表\n",
    "    start_row: 是开始行，即表格中开始比对数据的行（需要将标题除开）\n",
    "    col: 是需要处理数据的列\n",
    "    '''\n",
    "    start = 0 #开始行计数\n",
    "    end = 0 #结束行计数\n",
    "    reference = target_list[0] #设定基准，以列表中的第一个字符串开始\n",
    "    for i in range(len(target_list)): #遍历列表\n",
    "        if target_list[i] != reference: #开始比对，如果内容不同执行如下\n",
    "            reference = target_list[i] #基准变成列表中下一个字符串\n",
    "            end = i - 1 \n",
    "            table.cell(start+start_row,col).merge(table.cell(end+start_row,col))\n",
    "            start = end + 1\n",
    "        if i == len(target_list) - 1: #遍历到最后一行，按如下操作\n",
    "            end = i\n",
    "            table.cell(start+start_row,col).merge(table.cell(end+start_row,col))"
   ]
  },
  {
   "cell_type": "markdown",
   "metadata": {},
   "source": [
    "然后往word的表格中写入数据，并合并单元格。"
   ]
  },
  {
   "cell_type": "code",
   "execution_count": 6,
   "metadata": {
    "scrolled": true
   },
   "outputs": [],
   "source": [
    "#数据提取即处理完毕后，就可以往Word的表格中写入数据了\n",
    "from docx import Document\n",
    "doc = Document(\"收货记录模板.docx\")\n",
    "#读取word文档中的第一个表格的第二和第三列除标题和尾部总数行的数据\n",
    "table = doc.tables[0] #已确定是第一个表格，其索引是0\n",
    "supplier = [] #存储供应商名称\n",
    "pn = [] #存储物料编码\n",
    "for i in data:\n",
    "    supplier.append(i[1])\n",
    "    pn.append(i[2])\n",
    "#按需增加行，以便填写数据\n",
    "for i in range(len(supplier)): #模板中已经有一行了，所以总共只需增加len(supplier)行\n",
    "    table.add_row() \n",
    "#增加好行后先做合并单元格操作\n",
    "Merge_cells(table,supplier,1,1) #开始合并行为2，索引为1；供应商名称是在2列，索引为1\n",
    "Merge_cells(table,pn,1,2) #开始合并行为2，索引为1；物料编码是在3列，索引为2\n",
    "\n",
    "#写入数据到表格\n",
    "for row in range(1,len(supplier)+1):\n",
    "    for col in range(7):        \n",
    "        table.cell(row,col).text = str(data[row-1][col])\n",
    "\n",
    "max_row = len(table.rows) #获取最大一行\n",
    "qty_row = max_row-1 #确定需要写入加总数据的一行\n",
    "table.cell(qty_row,5).merge(table.cell(qty_row,5)) #合并右下角用于填写数量的两个单元格\n",
    "table.cell(qty_row,4).text = '总数：'\n",
    "table.cell(qty_row,5).text = str(sum_qty)\n",
    "\n",
    "doc.save(\"收货记录.docx\")"
   ]
  },
  {
   "cell_type": "markdown",
   "metadata": {},
   "source": [
    "由于合并供应商名称和物料编码两列中的相同内容的单元格，所有需要把这两列的信息从总数据`data`中单独提取出来。新建了`supplier`和`pn`两个空列表，然后遍历`data`，将数据取出并存入空列表。随后，我们根据实际需要，新增一些空白行，以便后面写入数据。新增行的数量以`supplier`列表中元素的个数为依据。这个表格已经存在一个空白行，算上外行要填“总数”，只需增加`supplier`列表中元素的个数对应那么多行就够了。当然这里也可以以列表`pn`中元素个数为依据，两者是相等的。增加好行后，先调用函数`Merge_cells`做合并单元格操作（如果先写入数据，再合并，会导致单元格内容重复）。合并完后，就可以写入数据到表格了，此处遍历需要写入数据的行和列，然后从`data`中提取数据。数据行写完后，还需要写入最后一行的“总数”字样和总的物料数量。最后保存数据，得到如下结果：\n",
    "![](images\\result-actual.png)"
   ]
  },
  {
   "cell_type": "markdown",
   "metadata": {},
   "source": [
    "看起来是不是有点丑啊，那还需要调整一下字体加粗，单元格对齐，单元格框线，行高参数。这些留到下一个实例再做吧，记得“追剧”哦^_^。"
   ]
  }
 ],
 "metadata": {
  "kernelspec": {
   "display_name": "Python 3",
   "language": "python",
   "name": "python3"
  },
  "language_info": {
   "codemirror_mode": {
    "name": "ipython",
    "version": 3
   },
   "file_extension": ".py",
   "mimetype": "text/x-python",
   "name": "python",
   "nbconvert_exporter": "python",
   "pygments_lexer": "ipython3",
   "version": "3.6.5"
  }
 },
 "nbformat": 4,
 "nbformat_minor": 2
}
